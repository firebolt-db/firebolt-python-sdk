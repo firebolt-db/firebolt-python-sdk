{
 "cells": [
  {
   "cell_type": "code",
   "execution_count": null,
   "id": "5994e2ff",
   "metadata": {},
   "outputs": [],
   "source": [
    "# required imports\n",
    "from firebolt.service.manager import ResourceManager\n",
    "\n",
    "# use debug function for pretty printing\n",
    "from devtools import debug\n",
    "\n",
    "# configure logging\n",
    "import logging\n",
    "\n",
    "logging.basicConfig(\n",
    "    format=\"{asctime} - {name} - {levelname} - {message}\", style=\"{\", level=\"INFO\"\n",
    ")\n",
    "\n",
    "# show every web request\n",
    "logging.getLogger(\"firebolt.http_client\").setLevel(\"DEBUG\")"
   ]
  },
  {
   "cell_type": "markdown",
   "id": "bc5376bc",
   "metadata": {},
   "source": [
    "### Configure ResourceManager"
   ]
  },
  {
   "cell_type": "markdown",
   "id": "4efaddf9",
   "metadata": {},
   "source": [
    "Option 1: create a `.env` file with the following contents (fill in values):\n",
    "```\n",
    "FIREBOLT_USER=''\n",
    "FIREBOLT_PASSWORD=''\n",
    "FIREBOLT_SERVER=''\n",
    "FIREBOLT_DEFAULT_REGION=''\n",
    "```"
   ]
  },
  {
   "cell_type": "code",
   "execution_count": null,
   "id": "bf3a14e2",
   "metadata": {},
   "outputs": [],
   "source": [
    "settings = None"
   ]
  },
  {
   "cell_type": "markdown",
   "id": "f1626c0e",
   "metadata": {},
   "source": [
    "Option 2: Specify settings manually using the Settings object:"
   ]
  },
  {
   "cell_type": "code",
   "execution_count": null,
   "id": "e2c17737",
   "metadata": {},
   "outputs": [],
   "source": [
    "from firebolt.common import Settings\n",
    "\n",
    "settings = Settings(\n",
    "    user=\"\",\n",
    "    password=\"\",\n",
    "    server=\"\",  # api.app.firebolt.io\n",
    "    default_region=\"\",  # us-east-1\n",
    ")"
   ]
  },
  {
   "cell_type": "markdown",
   "id": "97388a98",
   "metadata": {},
   "source": [
    "### Initialize ResourceManager"
   ]
  },
  {
   "cell_type": "code",
   "execution_count": null,
   "id": "075df59b",
   "metadata": {},
   "outputs": [],
   "source": [
    "rm = ResourceManager(settings=settings)\n",
    "\n",
    "# see your account_id\n",
    "debug(rm.client.account_id)"
   ]
  },
  {
   "cell_type": "markdown",
   "id": "6aeee8cc",
   "metadata": {},
   "source": [
    "### Create default general purpose (ingest) engine\n",
    "Note: there is also `Engine.create_analytics(...)` which works the same way as `create_general_purpose(...)`."
   ]
  },
  {
   "cell_type": "code",
   "execution_count": null,
   "id": "5b40dfdd",
   "metadata": {},
   "outputs": [],
   "source": [
    "database_name = \"\"\n",
    "engine_name = \"\""
   ]
  },
  {
   "cell_type": "code",
   "execution_count": null,
   "id": "9dad9f23",
   "metadata": {
    "scrolled": false
   },
   "outputs": [],
   "source": [
    "engine = rm.engines.create_general_purpose_engine(\n",
    "    name=engine_name,\n",
    "    compute_instance_type_name=\"m5d.4xlarge\",\n",
    ")\n",
    "debug(engine)"
   ]
  },
  {
   "cell_type": "markdown",
   "id": "96138b51",
   "metadata": {},
   "source": [
    "### Get existing Engine by name, start, stop"
   ]
  },
  {
   "cell_type": "code",
   "execution_count": null,
   "id": "a069e9eb",
   "metadata": {
    "scrolled": false
   },
   "outputs": [],
   "source": [
    "engine = rm.engines.get_engine_by_name(engine_name=engine_name)\n",
    "debug(engine)\n",
    "\n",
    "started_engine = rm.engines.start_engine(engine=engine)\n",
    "debug(started_engine)\n",
    "\n",
    "stopped_engine = rm.engines.stop_engine(engine=engine)\n",
    "debug(stopped_engine)"
   ]
  },
  {
   "cell_type": "markdown",
   "id": "db04119b",
   "metadata": {},
   "source": [
    "### Copy an Engine"
   ]
  },
  {
   "cell_type": "code",
   "execution_count": null,
   "id": "df4071a2",
   "metadata": {
    "scrolled": false
   },
   "outputs": [],
   "source": [
    "engine = rm.engines.get_engine_by_name(engine_name=engine_name)\n",
    "engine.name = f\"{engine_name}_copy\"\n",
    "debug(engine)\n",
    "\n",
    "new_engine = rm.engines.create_engine(\n",
    "    engine=engine, engine_revision=rm.engine_revisions\n",
    ")\n",
    "debug(new_engine)"
   ]
  },
  {
   "cell_type": "markdown",
   "id": "ea32cf4b",
   "metadata": {},
   "source": [
    "### Get engines for a database"
   ]
  },
  {
   "cell_type": "code",
   "execution_count": null,
   "id": "116e3a30",
   "metadata": {},
   "outputs": [],
   "source": [
    "database = rm.databases.get_by_name(database_name=database_name)\n",
    "engines = rm.bindings.get_engines_bound_to_database(database=database)\n",
    "\n",
    "debug(engines)"
   ]
  },
  {
   "cell_type": "markdown",
   "id": "9e949d12",
   "metadata": {},
   "source": [
    "### Create engine, database, and bind them"
   ]
  },
  {
   "cell_type": "code",
   "execution_count": null,
   "id": "e4b8e07d",
   "metadata": {
    "scrolled": false
   },
   "outputs": [],
   "source": [
    "database = rm.databases.get_by_name(database_name=database_name)\n",
    "engine = rm.engines.create_general_purpose_engine(\n",
    "    name=engine_name, compute_instance_type_name=\"m5d.4xlarge\"\n",
    ")\n",
    "binding = rm.engines.bind_engine_to_database(\n",
    "    engine=engine, database=database, is_default_engine=True\n",
    ")\n",
    "\n",
    "debug(binding)"
   ]
  },
  {
   "cell_type": "markdown",
   "id": "ddf4098d",
   "metadata": {},
   "source": [
    "### Get default provider, region, and an instance_type\n",
    "An example of these might be:\n",
    " * provider: AWS\n",
    " * region: us-east-1\n",
    " * instance_type: i3.4xlarge"
   ]
  },
  {
   "cell_type": "code",
   "execution_count": null,
   "id": "8372e49f",
   "metadata": {
    "scrolled": false
   },
   "outputs": [],
   "source": [
    "debug(rm.regions.default_region)\n",
    "debug(rm.instance_types.get_by_name(instance_type_name=\"i3.4xlarge\"))"
   ]
  },
  {
   "cell_type": "code",
   "execution_count": null,
   "id": "c59c30a8",
   "metadata": {},
   "outputs": [],
   "source": []
  }
 ],
 "metadata": {
  "kernelspec": {
   "display_name": "Python 3 (ipykernel)",
   "language": "python",
   "name": "python3"
  },
  "language_info": {
   "codemirror_mode": {
    "name": "ipython",
    "version": 3
   },
   "file_extension": ".py",
   "mimetype": "text/x-python",
   "name": "python",
   "nbconvert_exporter": "python",
   "pygments_lexer": "ipython3",
   "version": "3.9.6"
  }
 },
 "nbformat": 4,
 "nbformat_minor": 5
}
