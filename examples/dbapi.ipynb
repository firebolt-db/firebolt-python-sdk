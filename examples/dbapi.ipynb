{
 "cells": [
  {
   "cell_type": "markdown",
   "id": "5b4d0d97",
   "metadata": {},
   "source": [
    "### Required imports"
   ]
  },
  {
   "cell_type": "code",
   "execution_count": null,
   "id": "bdd3e404",
   "metadata": {},
   "outputs": [],
   "source": [
    "from firebolt.db import connect\n",
    "from firebolt.client import DEFAULT_API_URL"
   ]
  },
  {
   "cell_type": "markdown",
   "id": "9cc3c3d4",
   "metadata": {},
   "source": [
    "### Database credentials"
   ]
  },
  {
   "cell_type": "code",
   "execution_count": null,
   "id": "0ce8b2d3",
   "metadata": {},
   "outputs": [],
   "source": [
    "# Only one of these two parameters should be specified\n",
    "engine_url = \"\"\n",
    "engine_name = \"\"\n",
    "assert bool(engine_url) != bool(\n",
    "    engine_name\n",
    "), \"Specify only one of engine_name and engine_url\"\n",
    "\n",
    "database_name = \"\"\n",
    "username = \"\"\n",
    "password = \"\"\n",
    "api_endpoint = DEFAULT_API_URL"
   ]
  },
  {
   "cell_type": "markdown",
   "id": "d09b5197",
   "metadata": {},
   "source": [
    "### Connecting to a database and creating cursor"
   ]
  },
  {
   "cell_type": "code",
   "execution_count": null,
   "id": "646869f7",
   "metadata": {},
   "outputs": [],
   "source": [
    "# create a connection based on provided credentials\n",
    "connection = connect(\n",
    "    engine_url=engine_url,\n",
    "    engine_name=engine_name,\n",
    "    database=database_name,\n",
    "    username=username,\n",
    "    password=password,\n",
    "    api_endpoint=api_endpoint,\n",
    ")\n",
    "\n",
    "# create a cursor for connection\n",
    "cursor = connection.cursor()"
   ]
  },
  {
   "cell_type": "markdown",
   "id": "93314f65",
   "metadata": {},
   "source": [
    "### Executing a query"
   ]
  },
  {
   "cell_type": "code",
   "execution_count": null,
   "id": "4bce6586",
   "metadata": {},
   "outputs": [],
   "source": [
    "cursor.execute(\n",
    "    \"create fact table if not exists test_table (id int, name text, dt datetime) primary index id\"\n",
    ")\n",
    "cursor.execute(\n",
    "    \"insert into test_table values (1, 'hello', '2021-01-01 01:01:01'),\"\n",
    "    \"(2, 'world', '2022-02-02 02:02:02'),\"\n",
    "    \"(3, '!', '2023-03-03 03:03:03')\"\n",
    ")\n",
    "cursor.execute(\"select * from test_table\")"
   ]
  },
  {
   "cell_type": "markdown",
   "id": "a215caa0",
   "metadata": {},
   "source": [
    "### Getting query description, rowcount"
   ]
  },
  {
   "cell_type": "code",
   "execution_count": null,
   "id": "71744dc5",
   "metadata": {},
   "outputs": [],
   "source": [
    "print(\"Description: \", cursor.description)\n",
    "print(\"Rowcount: \", cursor.rowcount)"
   ]
  },
  {
   "cell_type": "markdown",
   "id": "95e1a109",
   "metadata": {},
   "source": [
    "### Fetch query results"
   ]
  },
  {
   "cell_type": "code",
   "execution_count": null,
   "id": "0936d06a",
   "metadata": {},
   "outputs": [],
   "source": [
    "print(cursor.fetchone())\n",
    "print(cursor.fetchmany(1))\n",
    "print(cursor.fetchall())"
   ]
  },
  {
   "cell_type": "markdown",
   "id": "b1cd4ff2",
   "metadata": {},
   "source": [
    "## Async interface"
   ]
  },
  {
   "cell_type": "code",
   "execution_count": null,
   "id": "e115889d",
   "metadata": {},
   "outputs": [],
   "source": [
    "from firebolt.async_db import connect"
   ]
  },
  {
   "cell_type": "markdown",
   "id": "2f685035",
   "metadata": {},
   "source": [
    "### Connecting to a database and creating cursor"
   ]
  },
  {
   "cell_type": "code",
   "execution_count": null,
   "id": "b312cb16",
   "metadata": {},
   "outputs": [],
   "source": [
    "async def async_connect():\n",
    "    # create a connection based on provided credentials\n",
    "    connection = await connect(\n",
    "        engine_url=engine_url,\n",
    "        engine_name=engine_name,\n",
    "        database=database_name,\n",
    "        username=username,\n",
    "        password=password,\n",
    "        api_endpoint=api_endpoint,\n",
    "    )\n",
    "\n",
    "    # create a cursor for connection\n",
    "    cursor = connection.cursor()\n",
    "    return cursor"
   ]
  },
  {
   "cell_type": "code",
   "execution_count": null,
   "id": "58885c37",
   "metadata": {},
   "outputs": [],
   "source": [
    "async_cursor = await async_connect()"
   ]
  },
  {
   "cell_type": "markdown",
   "id": "8f5207c2",
   "metadata": {},
   "source": [
    "### Executing a query"
   ]
  },
  {
   "cell_type": "code",
   "execution_count": null,
   "id": "642c288d",
   "metadata": {},
   "outputs": [],
   "source": [
    "async def run_queries(cursor):\n",
    "    await cursor.execute(\n",
    "        \"create fact table if not exists test_table (id int, name text, dt datetime) primary index id\"\n",
    "    )\n",
    "    await cursor.execute(\n",
    "        \"insert into test_table values (1, 'hello', '2021-01-01 01:01:01'),\"\n",
    "        \"(2, 'world', '2022-02-02 02:02:02'),\"\n",
    "        \"(3, '!', '2023-03-03 03:03:03')\"\n",
    "    )\n",
    "    await cursor.execute(\"select * from test_table\")"
   ]
  },
  {
   "cell_type": "code",
   "execution_count": null,
   "id": "768fc91a",
   "metadata": {},
   "outputs": [],
   "source": [
    "await run_queries(async_cursor)"
   ]
  },
  {
   "cell_type": "markdown",
   "id": "40347a9d",
   "metadata": {},
   "source": [
    "### Getting query description, rowcount"
   ]
  },
  {
   "cell_type": "code",
   "execution_count": null,
   "id": "e5b8eefc",
   "metadata": {},
   "outputs": [],
   "source": [
    "print(\"Description: \", async_cursor.description)\n",
    "print(\"Rowcount: \", async_cursor.rowcount)"
   ]
  },
  {
   "cell_type": "markdown",
   "id": "0961f4ba",
   "metadata": {},
   "source": [
    "### Fetch query results"
   ]
  },
  {
   "cell_type": "code",
   "execution_count": null,
   "id": "cc4984ab",
   "metadata": {},
   "outputs": [],
   "source": [
    "async def print_results(cursor):\n",
    "    print(await cursor.fetchone())\n",
    "    print(await cursor.fetchmany(1))\n",
    "    print(await cursor.fetchall())"
   ]
  },
  {
   "cell_type": "code",
   "execution_count": null,
   "id": "15f24a0a",
   "metadata": {},
   "outputs": [],
   "source": [
    "await print_results(async_cursor)"
   ]
  }
 ],
 "metadata": {
  "kernelspec": {
   "display_name": "python37",
   "language": "python",
   "name": "python37"
  },
  "language_info": {
   "codemirror_mode": {
    "name": "ipython",
    "version": 3
   },
   "file_extension": ".py",
   "mimetype": "text/x-python",
   "name": "python",
   "nbconvert_exporter": "python",
   "pygments_lexer": "ipython3",
   "version": "3.7.12"
  }
 },
 "nbformat": 4,
 "nbformat_minor": 5
}
