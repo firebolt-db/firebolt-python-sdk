{
 "cells": [
  {
   "cell_type": "markdown",
   "id": "49583274adf87e83",
   "metadata": {
    "collapsed": false
   },
   "source": [
    "### Required imports"
   ]
  },
  {
   "cell_type": "code",
   "execution_count": null,
   "id": "bdd3e404",
   "metadata": {},
   "outputs": [],
   "source": [
    "from firebolt.db import connect, OperationalError\n",
    "from firebolt.client import DEFAULT_API_URL\n",
    "from firebolt.client.auth import ClientCredentials\n",
    "from datetime import datetime"
   ]
  },
  {
   "cell_type": "markdown",
   "id": "9cc3c3d4",
   "metadata": {},
   "source": [
    "### Database credentials"
   ]
  },
  {
   "cell_type": "code",
   "execution_count": null,
   "id": "0ce8b2d3",
   "metadata": {},
   "outputs": [],
   "source": [
    "client_id = \"\"\n",
    "client_secret = \"\"\n",
    "account_name = \"\"\n",
    "engine_name = \"\"  # Optional\n",
    "database_name = \"\"  # Optional\n",
    "api_endpoint = DEFAULT_API_URL  # Optional"
   ]
  },
  {
   "cell_type": "markdown",
   "id": "d09b5197",
   "metadata": {},
   "source": [
    "### Connecting to a database and creating cursor"
   ]
  },
  {
   "cell_type": "code",
   "execution_count": null,
   "id": "646869f7",
   "metadata": {},
   "outputs": [],
   "source": [
    "# create a connection based on provided credentials\n",
    "connection = connect(\n",
    "    auth=ClientCredentials(client_id, client_secret),\n",
    "    account_name=account_name,\n",
    "    engine_name=engine_name,\n",
    "    database=database_name,\n",
    "    api_endpoint=api_endpoint,\n",
    ")\n",
    "\n",
    "# create a cursor for connection\n",
    "cursor = connection.cursor()"
   ]
  },
  {
   "cell_type": "markdown",
   "id": "93314f65",
   "metadata": {},
   "source": [
    "### Executing a query"
   ]
  },
  {
   "cell_type": "code",
   "execution_count": null,
   "id": "4bce6586",
   "metadata": {},
   "outputs": [],
   "source": [
    "cursor.execute(\n",
    "    \"create fact table if not exists test_table (id int, name text, dt datetime) primary index id\"\n",
    ")\n",
    "cursor.execute(\n",
    "    \"insert into test_table values (1, 'hello', '2021-01-01 01:01:01'),\"\n",
    "    \"(2, 'world', '2022-02-02 02:02:02'),\"\n",
    "    \"(3, '!', '2023-03-03 03:03:03')\"\n",
    ")"
   ]
  },
  {
   "cell_type": "markdown",
   "id": "b356295a",
   "metadata": {},
   "source": [
    "### Parameterized query"
   ]
  },
  {
   "cell_type": "code",
   "execution_count": null,
   "id": "929f5221",
   "metadata": {},
   "outputs": [],
   "source": [
    "cursor.execute(\n",
    "    \"insert into test_table values (?, ?, ?)\",\n",
    "    (3, \"single parameter set\", datetime.now()),\n",
    ")\n",
    "cursor.executemany(\n",
    "    \"insert into test_table values (?, ?, ?)\",\n",
    "    ((4, \"multiple\", datetime.now()), (5, \"parameter sets\", datetime.fromtimestamp(0))),\n",
    ")"
   ]
  },
  {
   "cell_type": "markdown",
   "id": "a215caa0",
   "metadata": {},
   "source": [
    "### Getting query description, rowcount"
   ]
  },
  {
   "cell_type": "code",
   "execution_count": null,
   "id": "71744dc5",
   "metadata": {},
   "outputs": [],
   "source": [
    "cursor.execute(\"select * from test_table\")\n",
    "print(\"Description: \", cursor.description)\n",
    "print(\"Rowcount: \", cursor.rowcount)"
   ]
  },
  {
   "cell_type": "markdown",
   "id": "95e1a109",
   "metadata": {},
   "source": [
    "### Fetch query results"
   ]
  },
  {
   "cell_type": "code",
   "execution_count": null,
   "id": "0936d06a",
   "metadata": {},
   "outputs": [],
   "source": [
    "print(cursor.fetchone())\n",
    "print(cursor.fetchmany(1))\n",
    "print(cursor.fetchall())"
   ]
  },
  {
   "cell_type": "markdown",
   "id": "efc4ff0a",
   "metadata": {},
   "source": [
    "## Multi-statement queries"
   ]
  },
  {
   "cell_type": "code",
   "execution_count": null,
   "id": "744817b1",
   "metadata": {},
   "outputs": [],
   "source": [
    "cursor.execute(\n",
    "    \"\"\"\n",
    "    select * from test_table where id < 4;\n",
    "    select * from test_table where id > 2;\n",
    "\"\"\"\n",
    ")\n",
    "print(\"First query: \", cursor.fetchall())\n",
    "assert cursor.nextset()\n",
    "print(\"Second query: \", cursor.fetchall())\n",
    "assert cursor.nextset() is None"
   ]
  },
  {
   "cell_type": "markdown",
   "id": "02e5db2f",
   "metadata": {},
   "source": [
    "## Error handling\n",
    "If one query fails during the execution, all remaining queries are canceled.\n",
    "However, you still can fetch results for successful queries"
   ]
  },
  {
   "cell_type": "code",
   "execution_count": null,
   "id": "888500a9",
   "metadata": {},
   "outputs": [],
   "source": [
    "try:\n",
    "    cursor.execute(\n",
    "        \"\"\"\n",
    "        select * from test_table where id < 4;\n",
    "        select * from test_table where wrong_field > 2;\n",
    "        select * from test_table\n",
    "    \"\"\"\n",
    "    )\n",
    "except OperationalError:\n",
    "    pass\n",
    "cursor.fetchall()"
   ]
  },
  {
   "cell_type": "markdown",
   "id": "b44a19840b2b3366",
   "metadata": {
    "collapsed": false
   },
   "source": [
    "## Query result streaming\n",
    "\n",
    "Streaming is useful for large result sets, when you want to process rows one by one without loading all of them into memory."
   ]
  },
  {
   "cell_type": "code",
   "execution_count": null,
   "id": "e96d2bda533b250d",
   "metadata": {
    "collapsed": false
   },
   "outputs": [],
   "source": [
    "cursor.execute_stream(\"select * from generate_series(1, 1000000)\")\n",
    "for row in cursor:\n",
    "    print(row)\n",
    "    if row[0] > 10:\n",
    "        break\n",
    "# Remaining rows will not be fetched"
   ]
  },
  {
   "cell_type": "markdown",
   "id": "b1cd4ff2",
   "metadata": {},
   "source": [
    "## Async interface\n",
    "**NOTE**: In order to make async examples work in jupyter, you would need to install [trio-jupyter](https://github.com/mehaase/trio-jupyter) library and select **Python 3 Trio** kernel"
   ]
  },
  {
   "cell_type": "code",
   "execution_count": null,
   "id": "e115889d",
   "metadata": {},
   "outputs": [],
   "source": [
    "from firebolt.async_db import connect as async_connect"
   ]
  },
  {
   "cell_type": "markdown",
   "id": "2f685035",
   "metadata": {},
   "source": [
    "### Connecting to a database and creating cursor"
   ]
  },
  {
   "cell_type": "code",
   "execution_count": null,
   "id": "b312cb16",
   "metadata": {},
   "outputs": [],
   "source": [
    "# create a connection based on provided credentials\n",
    "async_connection = await async_connect(\n",
    "    auth=ClientCredentials(client_id, client_secret),\n",
    "    account_name=account_name,\n",
    "    engine_name=engine_name,\n",
    "    database=database_name,\n",
    "    api_endpoint=api_endpoint,\n",
    ")\n",
    "\n",
    "# create a cursor for connection\n",
    "async_cursor = async_connection.cursor()"
   ]
  },
  {
   "cell_type": "markdown",
   "id": "8f5207c2",
   "metadata": {},
   "source": [
    "### Executing a query"
   ]
  },
  {
   "cell_type": "code",
   "execution_count": null,
   "id": "642c288d",
   "metadata": {},
   "outputs": [],
   "source": [
    "await async_cursor.execute(\n",
    "    \"create fact table if not exists test_table (id int, name text, dt datetime) primary index id\"\n",
    ")\n",
    "await async_cursor.execute(\n",
    "    \"insert into test_table values (1, 'hello', '2021-01-01 01:01:01'),\"\n",
    "    \"(2, 'world', '2022-02-02 02:02:02'),\"\n",
    "    \"(3, '!', '2023-03-03 03:03:03')\"\n",
    ")\n",
    "await async_cursor.execute(\"select * from test_table\")"
   ]
  },
  {
   "cell_type": "markdown",
   "id": "40347a9d",
   "metadata": {},
   "source": [
    "### Getting query description, rowcount"
   ]
  },
  {
   "cell_type": "code",
   "execution_count": null,
   "id": "e5b8eefc",
   "metadata": {},
   "outputs": [],
   "source": [
    "print(\"Description: \", async_cursor.description)\n",
    "print(\"Rowcount: \", async_cursor.rowcount)"
   ]
  },
  {
   "cell_type": "markdown",
   "id": "0961f4ba",
   "metadata": {},
   "source": [
    "### Fetch query results"
   ]
  },
  {
   "cell_type": "code",
   "execution_count": null,
   "id": "cc4984ab",
   "metadata": {},
   "outputs": [],
   "source": [
    "print(await cursor.fetchone())\n",
    "print(await cursor.fetchmany(1))\n",
    "print(await cursor.fetchall())"
   ]
  },
  {
   "cell_type": "markdown",
   "id": "da36dd3f",
   "metadata": {},
   "source": [
    "### Closing connection"
   ]
  },
  {
   "cell_type": "code",
   "execution_count": null,
   "id": "83fc1686",
   "metadata": {},
   "outputs": [],
   "source": [
    "# manually\n",
    "connection.close()\n",
    "print(connection.closed)\n",
    "\n",
    "await async_connection.aclose()\n",
    "print(async_connection.closed)\n",
    "\n",
    "# using context manager\n",
    "with connect(\n",
    "    auth=ClientCredentials(client_id, client_secret),\n",
    "    account_name=account_name,\n",
    "    engine_name=engine_name,\n",
    "    database=database_name,\n",
    "    api_endpoint=api_endpoint,\n",
    ") as conn:\n",
    "    # create cursors, perform database queries\n",
    "    pass\n",
    "print(conn.closed)\n",
    "\n",
    "# using context manager\n",
    "async with await async_connect(\n",
    "    auth=ClientCredentials(client_id, client_secret),\n",
    "    account_name=account_name,\n",
    "    engine_name=engine_name,\n",
    "    database=database_name,\n",
    "    api_endpoint=api_endpoint,\n",
    ") as async_conn:\n",
    "    # create cursors, perform database queries\n",
    "    pass\n",
    "async_conn.closed"
   ]
  },
  {
   "cell_type": "markdown",
   "id": "e6fb3e46c972d13a",
   "metadata": {
    "collapsed": false
   },
   "source": [
    "## Query result streaming"
   ]
  },
  {
   "cell_type": "code",
   "execution_count": null,
   "id": "5eaaf1c35bac6fc6",
   "metadata": {
    "collapsed": false
   },
   "outputs": [],
   "source": [
    "await cursor.execute_stream(\"select * from generate_series(1, 1000000)\")\n",
    "async for row in cursor:\n",
    "    print(row)\n",
    "    if row[0] > 10:\n",
    "        break\n",
    "# Remaining rows will not be fetched"
   ]
  }
 ],
 "metadata": {
  "kernelspec": {
   "display_name": "Python 3 Trio",
   "language": "python",
   "name": "python3-trio"
  },
  "language_info": {
   "codemirror_mode": {
    "name": "ipython",
    "version": 3
   },
   "file_extension": ".py",
   "mimetype": "text/x-python",
   "name": "python",
   "nbconvert_exporter": "python",
   "pygments_lexer": "ipython3",
   "version": "3.9.20"
  }
 },
 "nbformat": 4,
 "nbformat_minor": 5
}
