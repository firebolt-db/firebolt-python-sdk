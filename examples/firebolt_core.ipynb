{
 "cells": [
  {
   "cell_type": "markdown",
   "id": "11fe8ceb",
   "metadata": {},
   "source": [
    "# Firebolt Core Examples\n",
    "\n",
    "This notebook demonstrates how to use the Firebolt Python SDK with Firebolt Core, a Docker-based version of Firebolt that can be run locally or remotely without authentication requirements.\n",
    "\n",
    "Firebolt Core is ideal for:\n",
    "- Local development and testing\n",
    "- CI/CD environments\n",
    "- Demonstration and educational purposes\n",
    "- Environments where authentication is handled elsewhere\n",
    "\n",
    "The examples in this notebook cover both synchronous and asynchronous connectivity, and demonstrate key SDK features including:\n",
    "- Connecting to Firebolt Core instances\n",
    "- Executing SQL queries\n",
    "- Using parameterized queries\n",
    "- Handling multi-statement queries\n",
    "- Processing streaming results\n",
    "- Error handling\n",
    "- Unit testing"
   ]
  },
  {
   "cell_type": "markdown",
   "id": "a0ff488e",
   "metadata": {},
   "source": [
    "## Prerequisites & Setup\n",
    "\n",
    "### Running Firebolt Core\n",
    "\n",
    "Firebolt Core can be run locally using Docker with the following command:\n",
    "\n",
    "```bash\n",
    "docker run -p 3473:3473 firebolt/firebolt-core:latest\n",
    "```\n",
    "\n",
    "You can also customize the port and other settings:\n",
    "\n",
    "```bash\n",
    "docker run -p 8080:3473 -e FIREBOLT_SERVER_PORT=3473 firebolt/firebolt-core:latest\n",
    "```\n",
    "\n",
    "For this notebook, we'll assume Firebolt Core is running locally on the default port (3473)."
   ]
  },
  {
   "cell_type": "markdown",
   "id": "8caa8e5a",
   "metadata": {},
   "source": [
    "## Connecting to Firebolt Core\n",
    "\n",
    "There are two ways to connect to Firebolt Core:\n",
    "\n",
    "1. **Synchronous connection** - using the standard DB-API 2.0 interface\n",
    "2. **Asynchronous connection** - using the async equivalent API\n",
    "\n",
    "Both methods use the `FireboltCore` authentication class, which doesn't require actual credentials."
   ]
  },
  {
   "cell_type": "markdown",
   "id": "14314b52",
   "metadata": {},
   "source": [
    "### Synchronous Connection"
   ]
  },
  {
   "cell_type": "code",
   "execution_count": 1,
   "id": "7debd869",
   "metadata": {},
   "outputs": [
    {
     "name": "stdout",
     "output_type": "stream",
     "text": [
      "Query result: [[1]]\n",
      "Column names: ?column?\n",
      "Connection URL: http://localhost:3473\n"
     ]
    }
   ],
   "source": [
    "from firebolt.db import connect\n",
    "from firebolt.client.auth import FireboltCore\n",
    "\n",
    "# Create a FireboltCore auth object - no credentials needed\n",
    "# You can specify a custom URL or use the default (http://localhost:3473)\n",
    "auth = FireboltCore()  # Default: http://localhost:3473\n",
    "# Or with custom URL: auth = FireboltCore(url=\"http://localhost:8080\")\n",
    "\n",
    "# Connect to Firebolt Core\n",
    "# The database parameter defaults to 'firebolt' if not specified\n",
    "connection = connect(auth=auth, database=\"firebolt\")\n",
    "\n",
    "# Create a cursor\n",
    "cursor = connection.cursor()\n",
    "\n",
    "# Execute a simple test query\n",
    "cursor.execute(\"SELECT 1\")\n",
    "\n",
    "# Fetch and display results\n",
    "result = cursor.fetchall()\n",
    "print(f\"Query result: {result}\")\n",
    "\n",
    "# Get column names\n",
    "print(f\"Column names: {cursor.description[0][0]}\")\n",
    "\n",
    "# Show connection parameters (filtered for Firebolt Core)\n",
    "print(f\"Connection URL: {connection.engine_url}\")\n",
    "\n",
    "# Close connection when done\n",
    "connection.close()"
   ]
  },
  {
   "cell_type": "markdown",
   "id": "e1a0c339",
   "metadata": {},
   "source": [
    "### Asynchronous Connection\n",
    "\n",
    "Firebolt SDK also supports asynchronous connections, which is useful for applications that need non-blocking database operations:"
   ]
  },
  {
   "cell_type": "code",
   "execution_count": null,
   "id": "4e77f75f",
   "metadata": {},
   "outputs": [],
   "source": [
    "from firebolt.async_db import connect as async_connect\n",
    "from firebolt.client.auth import FireboltCore\n",
    "\n",
    "\n",
    "async def run_async_query():\n",
    "    # Create a FireboltCore auth object\n",
    "    auth = FireboltCore()\n",
    "\n",
    "    # Connect to Firebolt Core asynchronously\n",
    "    connection = await async_connect(auth=auth, database=\"firebolt\")\n",
    "\n",
    "    # Create a cursor\n",
    "    cursor = connection.cursor()\n",
    "\n",
    "    # Execute a simple test query\n",
    "    await cursor.execute(\"SELECT 2\")\n",
    "\n",
    "    # Fetch and display results\n",
    "    result = await cursor.fetchall()\n",
    "    print(f\"Async query result: {result}\")\n",
    "\n",
    "    # Get column names\n",
    "    print(f\"Column names: {cursor.description[0][0]}\")\n",
    "\n",
    "    # Close connection when done\n",
    "    await connection.aclose()\n",
    "\n",
    "    return result\n",
    "\n",
    "\n",
    "# Run the async function\n",
    "await run_async_query()"
   ]
  },
  {
   "cell_type": "markdown",
   "id": "2dcdaddf",
   "metadata": {},
   "source": [
    "## Working with Database Objects\n",
    "\n",
    "Let's explore how to create and manipulate database objects in Firebolt Core. We'll create tables, insert data, and query the results."
   ]
  },
  {
   "cell_type": "code",
   "execution_count": null,
   "id": "5dbd8d15",
   "metadata": {},
   "outputs": [],
   "source": [
    "# Reuse the connection from earlier or create a new one\n",
    "from firebolt.db import connect\n",
    "from firebolt.client.auth import FireboltCore\n",
    "\n",
    "# Connect to Firebolt Core\n",
    "auth = FireboltCore()\n",
    "connection = connect(auth=auth, database=\"firebolt\")\n",
    "cursor = connection.cursor()\n",
    "\n",
    "# Create a new table\n",
    "create_table_sql = \"\"\"\n",
    "CREATE TABLE IF NOT EXISTS example_table (\n",
    "    id INT,\n",
    "    name TEXT,\n",
    "    value FLOAT,\n",
    "    created_at TIMESTAMP\n",
    ")\n",
    "\"\"\"\n",
    "\n",
    "cursor.execute(create_table_sql)\n",
    "print(\"Table created successfully!\")"
   ]
  },
  {
   "cell_type": "code",
   "execution_count": null,
   "id": "d35e389f",
   "metadata": {},
   "outputs": [],
   "source": [
    "# Insert data into the table\n",
    "insert_data_sql = \"\"\"\n",
    "INSERT INTO example_table (id, name, value, created_at)\n",
    "VALUES \n",
    "    (1, 'Item 1', 10.5, '2023-01-01 12:00:00'),\n",
    "    (2, 'Item 2', 20.75, '2023-01-02 14:30:00'),\n",
    "    (3, 'Item 3', 15.25, '2023-01-03 09:45:00')\n",
    "\"\"\"\n",
    "\n",
    "cursor.execute(insert_data_sql)\n",
    "print(\"Data inserted successfully!\")"
   ]
  },
  {
   "cell_type": "code",
   "execution_count": null,
   "id": "45788ca7",
   "metadata": {},
   "outputs": [],
   "source": [
    "# Query the data\n",
    "query_sql = \"\"\"\n",
    "SELECT * FROM example_table\n",
    "ORDER BY id\n",
    "\"\"\"\n",
    "\n",
    "cursor.execute(query_sql)\n",
    "results = cursor.fetchall()\n",
    "\n",
    "# Display results\n",
    "print(\"Query Results:\")\n",
    "for row in results:\n",
    "    print(row)\n",
    "\n",
    "# Get column information\n",
    "columns = [desc[0] for desc in cursor.description]\n",
    "print(\"\\nColumns:\", columns)"
   ]
  },
  {
   "cell_type": "markdown",
   "id": "2dc5f62d",
   "metadata": {},
   "source": [
    "## Parameterized Queries\n",
    "\n",
    "Parameterized queries are a crucial feature for building secure applications. They help prevent SQL injection attacks and make code more readable and maintainable. Firebolt Core supports parameterized queries using the standard DB-API 2.0 parameter style."
   ]
  },
  {
   "cell_type": "code",
   "execution_count": null,
   "id": "aafb8644",
   "metadata": {},
   "outputs": [],
   "source": [
    "# Example of a parameterized query\n",
    "parameterized_query = \"\"\"\n",
    "SELECT * FROM example_table \n",
    "WHERE id > ? AND value < ?\n",
    "ORDER BY value DESC\n",
    "\"\"\"\n",
    "\n",
    "# Parameter values\n",
    "params = (1, 20.0)\n",
    "\n",
    "# Execute with parameters\n",
    "cursor.execute(parameterized_query, params)\n",
    "\n",
    "# Fetch and display results\n",
    "param_results = cursor.fetchall()\n",
    "print(\"Parameterized Query Results:\")\n",
    "for row in param_results:\n",
    "    print(row)"
   ]
  },
  {
   "cell_type": "markdown",
   "id": "e13a6509",
   "metadata": {},
   "source": [
    "## Multi-Statement Queries\n",
    "\n",
    "Firebolt Core supports executing multiple SQL statements in a single query. This is particularly useful for running complex scripts, setting up multiple objects at once, or performing related operations together."
   ]
  },
  {
   "cell_type": "code",
   "execution_count": null,
   "id": "bc5e14d8",
   "metadata": {},
   "outputs": [],
   "source": [
    "# Multi-statement query example\n",
    "multi_statement_query = \"\"\"\n",
    "-- First statement creates a temporary table\n",
    "CREATE TABLE IF NOT EXISTS temp_stats AS \n",
    "SELECT \n",
    "    AVG(value) as avg_value,\n",
    "    MAX(value) as max_value,\n",
    "    MIN(value) as min_value\n",
    "FROM example_table;\n",
    "\n",
    "-- Second statement queries the temp table\n",
    "SELECT * FROM temp_stats;\n",
    "\n",
    "-- Third statement cleans up\n",
    "DROP TABLE temp_stats;\n",
    "\"\"\"\n",
    "\n",
    "# Execute multiple statements\n",
    "cursor.execute(multi_statement_query)\n",
    "\n",
    "# The result will be from the last SELECT statement\n",
    "multi_results = cursor.fetchall()\n",
    "print(\"Multi-Statement Query Results:\")\n",
    "for row in multi_results:\n",
    "    print(row)\n",
    "\n",
    "# Column names\n",
    "print(\"\\nColumns:\", [desc[0] for desc in cursor.description])"
   ]
  },
  {
   "cell_type": "markdown",
   "id": "a3fc2f85",
   "metadata": {},
   "source": [
    "## Streaming Results\n",
    "\n",
    "For large result sets, it's often more efficient to stream results rather than fetching them all at once. Firebolt Core supports streaming results using the iterator interface of the cursor."
   ]
  },
  {
   "cell_type": "code",
   "execution_count": null,
   "id": "c00530e3",
   "metadata": {},
   "outputs": [],
   "source": [
    "# First, let's create a larger dataset for demonstration\n",
    "cursor.execute(\"DROP TABLE IF EXISTS streaming_demo\")\n",
    "cursor.execute(\n",
    "    \"\"\"\n",
    "CREATE TABLE streaming_demo AS\n",
    "SELECT \n",
    "    number as id,\n",
    "    CONCAT('Item ', CAST(number AS VARCHAR)) as name,\n",
    "    number * 1.5 as value,\n",
    "    TIMESTAMP '2023-01-01 12:00:00' + INTERVAL number HOUR as created_at\n",
    "FROM numbers(1000)\n",
    "\"\"\"\n",
    ")\n",
    "\n",
    "print(\"Created larger demo table with 1000 rows\")\n",
    "\n",
    "# Now let's stream the results\n",
    "cursor.execute(\"SELECT * FROM streaming_demo ORDER BY id\")\n",
    "\n",
    "# Stream results instead of fetching all at once\n",
    "print(\"Streaming first 5 results:\")\n",
    "for i, row in enumerate(cursor):\n",
    "    print(row)\n",
    "    if i >= 4:  # Show just first 5 rows\n",
    "        print(\"...\")\n",
    "        break\n",
    "\n",
    "print(\n",
    "    f\"\\nTotal rows available: {cursor.rowcount if cursor.rowcount >= 0 else 'unknown'}\"\n",
    ")\n",
    "\n",
    "# Using fetchmany\n",
    "cursor.execute(\"SELECT * FROM streaming_demo WHERE id % 100 = 0 ORDER BY id\")\n",
    "print(\"\\nFetching in batches of 2:\")\n",
    "batch = cursor.fetchmany(2)\n",
    "while batch:\n",
    "    print(f\"Batch: {batch}\")\n",
    "    batch = cursor.fetchmany(2)"
   ]
  },
  {
   "cell_type": "code",
   "execution_count": null,
   "id": "7ec2d073",
   "metadata": {},
   "outputs": [],
   "source": [
    "# Cleanup - drop demo tables and close connection\n",
    "try:\n",
    "    cursor.execute(\"DROP TABLE IF EXISTS example_table\")\n",
    "    cursor.execute(\"DROP TABLE IF EXISTS streaming_demo\")\n",
    "    print(\"Cleaned up demo tables\")\n",
    "finally:\n",
    "    # Close the connection to release resources\n",
    "    if \"connection\" in locals() and connection:\n",
    "        connection.close()\n",
    "        print(\"Connection closed\")\n",
    "\n",
    "print(\"Notebook execution complete!\")"
   ]
  }
 ],
 "metadata": {
  "kernelspec": {
   "display_name": "venv",
   "language": "python",
   "name": "python3"
  },
  "language_info": {
   "codemirror_mode": {
    "name": "ipython",
    "version": 3
   },
   "file_extension": ".py",
   "mimetype": "text/x-python",
   "name": "python",
   "nbconvert_exporter": "python",
   "pygments_lexer": "ipython3",
   "version": "3.9.19"
  }
 },
 "nbformat": 4,
 "nbformat_minor": 5
}
