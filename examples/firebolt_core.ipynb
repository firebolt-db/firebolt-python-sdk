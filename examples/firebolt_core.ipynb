{
 "cells": [
  {
   "cell_type": "markdown",
   "id": "11fe8ceb",
   "metadata": {},
   "source": [
    "# Firebolt Core Examples\n",
    "\n",
    "This notebook demonstrates using the Firebolt Python SDK with Firebolt Core, a Docker-based version of Firebolt for local or remote use."
   ]
  },
  {
   "cell_type": "markdown",
   "id": "a0ff488e",
   "metadata": {},
   "source": [
    "## Prerequisites\n",
    "\n",
    "Firebolt Core can be run locally using Docker. Refer to the [official docs](https://docs.firebolt.io/firebolt-core/firebolt-core-get-started) on how to run it.\n",
    "\n",
    "For this notebook, we'll assume Firebolt Core is running locally on the default port (3473)."
   ]
  },
  {
   "cell_type": "markdown",
   "id": "8caa8e5a",
   "metadata": {},
   "source": [
    "## Connection Types\n",
    "\n",
    "There are two ways to connect to Firebolt Core:\n",
    "\n",
    "1. **Synchronous connection** - using the standard DB-API 2.0 interface\n",
    "2. **Asynchronous connection** - using the async equivalent API\n",
    "\n",
    "Both methods use the `FireboltCore` authentication class, which doesn't require actual credentials."
   ]
  },
  {
   "cell_type": "markdown",
   "id": "14314b52",
   "metadata": {},
   "source": [
    "### Required imports"
   ]
  },
  {
   "cell_type": "code",
   "execution_count": null,
   "id": "159d4236",
   "metadata": {},
   "outputs": [],
   "source": [
    "from firebolt.db import connect\n",
    "from firebolt.client.auth import FireboltCore"
   ]
  },
  {
   "cell_type": "markdown",
   "id": "57eaa46b",
   "metadata": {},
   "source": [
    "### Connection settings"
   ]
  },
  {
   "cell_type": "code",
   "execution_count": null,
   "id": "cc50522c",
   "metadata": {},
   "outputs": [],
   "source": [
    "# For Firebolt Core, we don't need credentials\n",
    "# but we can specify the database and host if needed\n",
    "database = \"firebolt\"  # Default database name\n",
    "url = \"http://localhost:3473\"  # Default URL"
   ]
  },
  {
   "cell_type": "markdown",
   "id": "a2159041",
   "metadata": {},
   "source": [
    "### Connecting to a database and creating cursor"
   ]
  },
  {
   "cell_type": "code",
   "execution_count": null,
   "id": "7debd869",
   "metadata": {},
   "outputs": [],
   "source": [
    "# Create a FireboltCore auth object - no credentials needed\n",
    "auth = FireboltCore()\n",
    "\n",
    "# Connect to Firebolt Core\n",
    "connection = connect(auth=auth, database=database, url=url)\n",
    "\n",
    "# Create a cursor\n",
    "cursor = connection.cursor()"
   ]
  },
  {
   "cell_type": "markdown",
   "id": "5a498df4",
   "metadata": {},
   "source": [
    "### Executing a query"
   ]
  },
  {
   "cell_type": "code",
   "execution_count": null,
   "id": "769ff379",
   "metadata": {},
   "outputs": [],
   "source": [
    "# Create a test table\n",
    "cursor.execute(\n",
    "    \"CREATE TABLE IF NOT EXISTS example_table (id INT, name TEXT, value FLOAT, created_at TIMESTAMP)\"\n",
    ")\n",
    "\n",
    "# Insert some test data\n",
    "cursor.execute(\n",
    "    \"INSERT INTO example_table VALUES \"\n",
    "    \"(1, 'Item 1', 10.5, '2023-01-01 12:00:00'), \"\n",
    "    \"(2, 'Item 2', 20.75, '2023-01-02 14:30:00'), \"\n",
    "    \"(3, 'Item 3', 15.25, '2023-01-03 09:45:00')\"\n",
    ")\n",
    "\n",
    "# Execute a simple test query\n",
    "cursor.execute(\"SELECT 1\")\n",
    "\n",
    "# Fetch and display results\n",
    "result = cursor.fetchall()\n",
    "print(f\"Query result: {result}\")\n",
    "\n",
    "# Get column names\n",
    "print(f\"Column names: {cursor.description[0][0]}\")\n",
    "\n",
    "# Show connection parameters (filtered for Firebolt Core)\n",
    "print(f\"Connection URL: {connection.engine_url}\")"
   ]
  },
  {
   "cell_type": "markdown",
   "id": "5439c170",
   "metadata": {},
   "source": [
    "### Parameterized query"
   ]
  },
  {
   "cell_type": "code",
   "execution_count": null,
   "id": "98377601",
   "metadata": {},
   "outputs": [],
   "source": [
    "# Execute with a single parameter set\n",
    "cursor.execute(\n",
    "    \"INSERT INTO example_table VALUES (?, ?, ?, ?)\",\n",
    "    (4, \"Parameter Example\", 30.5, \"2023-01-04 10:00:00\"),\n",
    ")\n",
    "\n",
    "# Execute with multiple parameter sets\n",
    "cursor.executemany(\n",
    "    \"INSERT INTO example_table VALUES (?, ?, ?, ?)\",\n",
    "    [\n",
    "        (5, \"Multi Param 1\", 25.5, \"2023-01-05 11:00:00\"),\n",
    "        (6, \"Multi Param 2\", 35.75, \"2023-01-06 12:00:00\"),\n",
    "    ],\n",
    ")"
   ]
  },
  {
   "cell_type": "markdown",
   "id": "7ef390a9",
   "metadata": {},
   "source": [
    "### Getting query description, rowcount"
   ]
  },
  {
   "cell_type": "code",
   "execution_count": null,
   "id": "ae2366ff",
   "metadata": {},
   "outputs": [],
   "source": [
    "cursor.execute(\"SELECT * FROM example_table\")\n",
    "print(\"Description: \", cursor.description)\n",
    "print(\"Rowcount: \", cursor.rowcount)"
   ]
  },
  {
   "cell_type": "markdown",
   "id": "355028a9",
   "metadata": {},
   "source": [
    "### Fetch query results"
   ]
  },
  {
   "cell_type": "code",
   "execution_count": null,
   "id": "a992d4aa",
   "metadata": {},
   "outputs": [],
   "source": [
    "# Re-run the query to reset the cursor position\n",
    "cursor.execute(\"SELECT * FROM example_table\")\n",
    "\n",
    "# Different fetch methods\n",
    "print(\"fetchone():\", cursor.fetchone())\n",
    "print(\"fetchmany(2):\", cursor.fetchmany(2))\n",
    "print(\"fetchall():\", cursor.fetchall())"
   ]
  },
  {
   "cell_type": "markdown",
   "id": "f73c88b3",
   "metadata": {},
   "source": [
    "### Closing the connection"
   ]
  },
  {
   "cell_type": "code",
   "execution_count": null,
   "id": "7871d2fa",
   "metadata": {},
   "outputs": [],
   "source": [
    "connection.close()"
   ]
  },
  {
   "cell_type": "markdown",
   "id": "e1a0c339",
   "metadata": {},
   "source": [
    "### Async interface\n",
    "**NOTE**: In order to make async examples work in jupyter, you would need to install [trio-jupyter](https://github.com/mehaase/trio-jupyter) library and select **Python 3 Trio** kernel"
   ]
  },
  {
   "cell_type": "markdown",
   "id": "46abd8b7",
   "metadata": {},
   "source": [
    "#### Required imports"
   ]
  },
  {
   "cell_type": "code",
   "execution_count": null,
   "id": "dc86010e",
   "metadata": {},
   "outputs": [],
   "source": [
    "from firebolt.async_db import connect as async_connect\n",
    "from firebolt.client.auth import FireboltCore"
   ]
  },
  {
   "cell_type": "code",
   "execution_count": null,
   "id": "2173ff49",
   "metadata": {},
   "outputs": [],
   "source": [
    "auth = FireboltCore()\n",
    "# Connect to Firebolt Core asynchronously\n",
    "connection = await async_connect(auth=auth, database=\"firebolt\")\n",
    "\n",
    "# Create a cursor\n",
    "cursor = connection.cursor()"
   ]
  },
  {
   "cell_type": "code",
   "execution_count": null,
   "id": "4e77f75f",
   "metadata": {},
   "outputs": [],
   "source": [
    "await cursor.execute(\"SELECT 2\")\n",
    "\n",
    "# Fetch and display results\n",
    "result = await cursor.fetchall()\n",
    "print(f\"Async query result: {result}\")\n",
    "\n",
    "# Get column names\n",
    "print(f\"Column names: {cursor.description[0][0]}\")"
   ]
  },
  {
   "cell_type": "code",
   "execution_count": null,
   "id": "2788ad42",
   "metadata": {},
   "outputs": [],
   "source": [
    "# Close connection when done\n",
    "await connection.aclose()"
   ]
  }
 ],
 "metadata": {
  "kernelspec": {
   "display_name": "venv",
   "language": "python",
   "name": "python3"
  },
  "language_info": {
   "codemirror_mode": {
    "name": "ipython",
    "version": 3
   },
   "file_extension": ".py",
   "mimetype": "text/x-python",
   "name": "python",
   "nbconvert_exporter": "python",
   "pygments_lexer": "ipython3",
   "version": "3.9.19"
  }
 },
 "nbformat": 4,
 "nbformat_minor": 5
}
