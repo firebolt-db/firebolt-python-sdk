{
 "cells": [
  {
   "cell_type": "markdown",
   "id": "2c6619ae",
   "metadata": {},
   "source": [
    "# Imports"
   ]
  },
  {
   "cell_type": "code",
   "execution_count": null,
   "id": "db711a30",
   "metadata": {},
   "outputs": [],
   "source": [
    "# required imports\n",
    "from firebolt.service.manager import ResourceManager\n",
    "from firebolt.client import DEFAULT_API_URL\n",
    "from firebolt.client.auth import UsernamePassword, ServiceAccount\n",
    "\n",
    "# use debug function for pretty printing\n",
    "from devtools import debug"
   ]
  },
  {
   "cell_type": "markdown",
   "id": "443e8468",
   "metadata": {},
   "source": [
    "# Logging"
   ]
  },
  {
   "cell_type": "code",
   "execution_count": null,
   "id": "5994e2ff",
   "metadata": {},
   "outputs": [],
   "source": [
    "# configure logging\n",
    "import logging\n",
    "\n",
    "logging.basicConfig(\n",
    "    format=\"{asctime} - {name} - {levelname} - {message}\", style=\"{\", level=\"INFO\"\n",
    ")\n",
    "\n",
    "# uncomment to show every web request\n",
    "# logging.getLogger(\"firebolt.client\").setLevel(\"DEBUG\")\n",
    "\n",
    "# uncomment to suppress info messages from core database/engine operations\n",
    "# logging.getLogger(\"firebolt.service\").setLevel(\"WARNING\")\n",
    "# logging.getLogger(\"firebolt.model\").setLevel(\"WARNING\")\n",
    "\n",
    "# uncomment to suppress info messages from running queries\n",
    "# logging.getLogger(\"firebolt.async_db\").setLevel(\"WARNING\")"
   ]
  },
  {
   "cell_type": "markdown",
   "id": "bc5376bc",
   "metadata": {},
   "source": [
    "# Configure ResourceManager"
   ]
  },
  {
   "cell_type": "markdown",
   "id": "4efaddf9",
   "metadata": {},
   "source": [
    "**Option 1**: create a `.env` file with the following contents (fill in values):\n",
    "```\n",
    "FIREBOLT_USER=''\n",
    "FIREBOLT_PASSWORD=''\n",
    "FIREBOLT_SERVER=''\n",
    "FIREBOLT_DEFAULT_REGION=''\n",
    "```\n",
    "(or ensure these env vars are already set)"
   ]
  },
  {
   "cell_type": "code",
   "execution_count": null,
   "id": "bf3a14e2",
   "metadata": {},
   "outputs": [],
   "source": [
    "settings = None"
   ]
  },
  {
   "cell_type": "markdown",
   "id": "f1626c0e",
   "metadata": {},
   "source": [
    "**Option 2**: Specify settings manually using the Settings object:"
   ]
  },
  {
   "cell_type": "code",
   "execution_count": null,
   "id": "640f0efe-fe54-4cef-b1de-32a4339d3dad",
   "metadata": {},
   "outputs": [],
   "source": [
    "# Using username/password authentication\n",
    "username = \"\"\n",
    "password = \"\"\n",
    "\n",
    "# Using service account authentication\n",
    "client_id = \"\"\n",
    "client_secret = \"\"\n",
    "\n",
    "assert not (username and client_id), \"Specify only one set of credentials\"\n",
    "if username and password:\n",
    "    auth = UsernamePassword(username, password)\n",
    "else:  # client_id and client_secret\n",
    "    auth = ServiceAccount(client_id, client_secret)\n",
    "\n",
    "account_name = \"\"\n",
    "server = DEFAULT_API_URL\n",
    "default_region = \"us-east-1\""
   ]
  },
  {
   "cell_type": "code",
   "execution_count": null,
   "id": "e2c17737",
   "metadata": {},
   "outputs": [],
   "source": [
    "from firebolt.common import Settings\n",
    "\n",
    "settings = Settings(\n",
    "    auth=auth,\n",
    "    account_name=account_name,\n",
    "    server=server,\n",
    "    default_region=default_region,\n",
    ")"
   ]
  },
  {
   "cell_type": "markdown",
   "id": "97388a98",
   "metadata": {},
   "source": [
    "# Initialize ResourceManager"
   ]
  },
  {
   "cell_type": "code",
   "execution_count": null,
   "id": "4bb2e141",
   "metadata": {
    "scrolled": true
   },
   "outputs": [],
   "source": [
    "rm = ResourceManager(settings=settings)\n",
    "\n",
    "# see your account_id\n",
    "debug(rm.account_id)\n",
    "\n",
    "# see your settings\n",
    "debug(rm.settings)"
   ]
  },
  {
   "cell_type": "markdown",
   "id": "cd874695",
   "metadata": {},
   "source": [
    "Specify a database_name and engine_name below if you want, or run as-is to use the defaults."
   ]
  },
  {
   "cell_type": "code",
   "execution_count": null,
   "id": "5b40dfdd",
   "metadata": {},
   "outputs": [],
   "source": [
    "import time\n",
    "\n",
    "default_name = f\"temp_{int(time.time())}\"\n",
    "database_name = default_name  # Change to use you own name for creating a new database\n",
    "engine_name = default_name  # Change to use you own name for creating a new engine"
   ]
  },
  {
   "cell_type": "markdown",
   "id": "fea50dfa",
   "metadata": {},
   "source": [
    "# Database"
   ]
  },
  {
   "cell_type": "markdown",
   "id": "b111f874",
   "metadata": {},
   "source": [
    "### Create database"
   ]
  },
  {
   "cell_type": "code",
   "execution_count": null,
   "id": "cdbeedd3",
   "metadata": {},
   "outputs": [],
   "source": [
    "database = rm.databases.create(name=database_name, region=\"us-east-1\")\n",
    "debug(database)"
   ]
  },
  {
   "cell_type": "markdown",
   "id": "4518f956",
   "metadata": {},
   "source": [
    "### Get by name"
   ]
  },
  {
   "cell_type": "code",
   "execution_count": null,
   "id": "a9b0f0b0",
   "metadata": {},
   "outputs": [],
   "source": [
    "database = rm.databases.get_by_name(name=database_name)\n",
    "debug(database)"
   ]
  },
  {
   "cell_type": "markdown",
   "id": "ea32cf4b",
   "metadata": {},
   "source": [
    "### Get engines attached to a database"
   ]
  },
  {
   "cell_type": "code",
   "execution_count": null,
   "id": "116e3a30",
   "metadata": {},
   "outputs": [],
   "source": [
    "engines = database.get_attached_engines()\n",
    "\n",
    "debug(engines)"
   ]
  },
  {
   "cell_type": "markdown",
   "id": "bf78ffc5",
   "metadata": {},
   "source": [
    "# Engine"
   ]
  },
  {
   "cell_type": "markdown",
   "id": "6aeee8cc",
   "metadata": {},
   "source": [
    "### Create engine"
   ]
  },
  {
   "cell_type": "code",
   "execution_count": null,
   "id": "9dad9f23",
   "metadata": {},
   "outputs": [],
   "source": [
    "engine = rm.engines.create(name=engine_name)\n",
    "debug(engine)"
   ]
  },
  {
   "cell_type": "markdown",
   "id": "96138b51",
   "metadata": {},
   "source": [
    "### Get by name"
   ]
  },
  {
   "cell_type": "code",
   "execution_count": null,
   "id": "fd76fb57",
   "metadata": {},
   "outputs": [],
   "source": [
    "engine = rm.engines.get_by_name(name=engine_name)\n",
    "debug(engine)"
   ]
  },
  {
   "cell_type": "markdown",
   "id": "14aedbac",
   "metadata": {},
   "source": [
    "### Attach to database"
   ]
  },
  {
   "cell_type": "code",
   "execution_count": null,
   "id": "9fc01024",
   "metadata": {},
   "outputs": [],
   "source": [
    "engine.attach_to_database(database=rm.databases.get_by_name(name=database_name))"
   ]
  },
  {
   "cell_type": "markdown",
   "id": "a1e60b06",
   "metadata": {},
   "source": [
    "### Start"
   ]
  },
  {
   "cell_type": "code",
   "execution_count": null,
   "id": "cf032a2c",
   "metadata": {},
   "outputs": [],
   "source": [
    "engine = engine.start()\n",
    "debug(engine)"
   ]
  },
  {
   "cell_type": "markdown",
   "id": "bf9dcb97",
   "metadata": {},
   "source": [
    "### Run a query"
   ]
  },
  {
   "cell_type": "code",
   "execution_count": null,
   "id": "aef5ceb4",
   "metadata": {},
   "outputs": [],
   "source": [
    "with engine.get_connection() as connection:\n",
    "    with connection.cursor() as cursor:\n",
    "        result = cursor.execute(\"select 1\")\n",
    "        debug(result)"
   ]
  },
  {
   "cell_type": "markdown",
   "id": "b241f1a4",
   "metadata": {},
   "source": [
    "### Stop"
   ]
  },
  {
   "cell_type": "code",
   "execution_count": null,
   "id": "a069e9eb",
   "metadata": {},
   "outputs": [],
   "source": [
    "stopped_engine = engine.stop()\n",
    "debug(stopped_engine)"
   ]
  },
  {
   "cell_type": "markdown",
   "id": "bde3d38b",
   "metadata": {},
   "source": [
    "### Get an engine's database"
   ]
  },
  {
   "cell_type": "code",
   "execution_count": null,
   "id": "1728ae68",
   "metadata": {},
   "outputs": [],
   "source": [
    "debug(engine.database)"
   ]
  },
  {
   "cell_type": "markdown",
   "id": "7639a535",
   "metadata": {},
   "source": [
    "# Region, Instance Types"
   ]
  },
  {
   "cell_type": "markdown",
   "id": "ddf4098d",
   "metadata": {},
   "source": [
    "### Get default region, and an instance_type\n",
    "An example of these might be:\n",
    " * provider: AWS\n",
    " * region: us-east-1\n",
    " * instance_type: i3.4xlarge"
   ]
  },
  {
   "cell_type": "code",
   "execution_count": null,
   "id": "8372e49f",
   "metadata": {},
   "outputs": [],
   "source": [
    "debug(rm.regions.default_region)\n",
    "debug(rm.instance_types.get_by_name(instance_type_name=\"B2\"))"
   ]
  }
 ],
 "metadata": {
  "kernelspec": {
   "display_name": "Python 3 (ipykernel)",
   "language": "python",
   "name": "python3"
  },
  "language_info": {
   "codemirror_mode": {
    "name": "ipython",
    "version": 3
   },
   "file_extension": ".py",
   "mimetype": "text/x-python",
   "name": "python",
   "nbconvert_exporter": "python",
   "pygments_lexer": "ipython3",
   "version": "3.9.16"
  }
 },
 "nbformat": 4,
 "nbformat_minor": 5
}
