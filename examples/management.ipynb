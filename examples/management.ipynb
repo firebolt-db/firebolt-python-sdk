{
 "cells": [
  {
   "cell_type": "markdown",
   "id": "2c6619ae",
   "metadata": {},
   "source": [
    "# Imports"
   ]
  },
  {
   "cell_type": "code",
   "execution_count": 1,
   "id": "93073ef6",
   "metadata": {},
   "outputs": [],
   "source": [
    "# required imports\n",
    "from firebolt.service.manager import ResourceManager\n",
    "\n",
    "# use debug function for pretty printing\n",
    "from devtools import debug"
   ]
  },
  {
   "cell_type": "markdown",
   "id": "443e8468",
   "metadata": {},
   "source": [
    "# Logging"
   ]
  },
  {
   "cell_type": "code",
   "execution_count": 2,
   "id": "5994e2ff",
   "metadata": {},
   "outputs": [],
   "source": [
    "# configure logging\n",
    "import logging\n",
    "\n",
    "logging.basicConfig(\n",
    "    format=\"{asctime} - {name} - {levelname} - {message}\", style=\"{\", level=\"INFO\"\n",
    ")\n",
    "\n",
    "# uncomment to show every web request\n",
    "# logging.getLogger(\"firebolt.client\").setLevel(\"DEBUG\")"
   ]
  },
  {
   "cell_type": "markdown",
   "id": "bc5376bc",
   "metadata": {},
   "source": [
    "# Configure ResourceManager"
   ]
  },
  {
   "cell_type": "markdown",
   "id": "4efaddf9",
   "metadata": {},
   "source": [
    "**Option 1**: create a `.env` file with the following contents (fill in values):\n",
    "```\n",
    "FIREBOLT_USER=''\n",
    "FIREBOLT_PASSWORD=''\n",
    "FIREBOLT_SERVER=''\n",
    "FIREBOLT_DEFAULT_REGION=''\n",
    "```\n",
    "(or ensure these env vars are already set)"
   ]
  },
  {
   "cell_type": "code",
   "execution_count": 3,
   "id": "bf3a14e2",
   "metadata": {},
   "outputs": [],
   "source": [
    "settings = None"
   ]
  },
  {
   "cell_type": "markdown",
   "id": "f1626c0e",
   "metadata": {},
   "source": [
    "**Option 2**: Specify settings manually using the Settings object:"
   ]
  },
  {
   "cell_type": "code",
   "execution_count": null,
   "id": "e2c17737",
   "metadata": {},
   "outputs": [],
   "source": [
    "from firebolt.common import Settings\n",
    "\n",
    "settings = Settings(\n",
    "    server=\"\",  # api.app.firebolt.io\n",
    "    user=\"\",\n",
    "    password=\"\",\n",
    "    default_region=\"\",  # us-east-1\n",
    ")"
   ]
  },
  {
   "cell_type": "markdown",
   "id": "97388a98",
   "metadata": {},
   "source": [
    "# Initialize ResourceManager"
   ]
  },
  {
   "cell_type": "code",
   "execution_count": 10,
   "id": "4bb2e141",
   "metadata": {
    "scrolled": true
   },
   "outputs": [
    {
     "name": "stdout",
     "output_type": "stream",
     "text": [
      "/var/folders/46/smjdxy0541s253bfdvwg8r_h0000gn/T/ipykernel_92353/902873757.py:4 <module>\n",
      "    rm.account_id: '15ff9dd6-32a6-417b-b004-6f69d7cc4c8b' (str) len=36\n",
      "/var/folders/46/smjdxy0541s253bfdvwg8r_h0000gn/T/ipykernel_92353/902873757.py:7 <module>\n",
      "    rm.settings: Settings(\n",
      "        server='api.dev.firebolt.io',\n",
      "        user='eg@firebolt.io',\n",
      "        password=SecretStr('**********'),\n",
      "        default_region='us-east-1',\n",
      "    ) (Settings)\n"
     ]
    },
    {
     "data": {
      "text/plain": [
       "Settings(server='api.dev.firebolt.io', user='eg@firebolt.io', password=SecretStr('**********'), default_region='us-east-1')"
      ]
     },
     "execution_count": 10,
     "metadata": {},
     "output_type": "execute_result"
    }
   ],
   "source": [
    "rm = ResourceManager(settings=settings)\n",
    "\n",
    "# see your account_id\n",
    "debug(rm.account_id)\n",
    "\n",
    "# see your settings\n",
    "debug(rm.settings)"
   ]
  },
  {
   "cell_type": "markdown",
   "id": "cd874695",
   "metadata": {},
   "source": [
    "Specify a database_name and engine_name below if you want, or run as-is to use the defaults."
   ]
  },
  {
   "cell_type": "code",
   "execution_count": 11,
   "id": "5b40dfdd",
   "metadata": {},
   "outputs": [],
   "source": [
    "import time\n",
    "\n",
    "default_name = f\"temp_{int(time.time())}\"\n",
    "database_name = \"\" or default_name\n",
    "engine_name = \"\" or default_name"
   ]
  },
  {
   "cell_type": "markdown",
   "id": "fea50dfa",
   "metadata": {},
   "source": [
    "# Database"
   ]
  },
  {
   "cell_type": "markdown",
   "id": "b111f874",
   "metadata": {},
   "source": [
    "### Create database"
   ]
  },
  {
   "cell_type": "code",
   "execution_count": 13,
   "id": "cdbeedd3",
   "metadata": {},
   "outputs": [
    {
     "name": "stdout",
     "output_type": "stream",
     "text": [
      "/var/folders/46/smjdxy0541s253bfdvwg8r_h0000gn/T/ipykernel_92353/1976386265.py:2 <module>\n",
      "    database: Database(\n",
      "        name='temp_1636049214',\n",
      "        compute_region_key=RegionKey(\n",
      "            provider_id='402a51bb-1c8e-4dc4-9e05-ced3c1e2186e',\n",
      "            region_id='f1841f9f-4031-4a9a-b3d7-1dc27e7e61ed',\n",
      "        ),\n",
      "        database_key=DatabaseKey(\n",
      "            account_id='15ff9dd6-32a6-417b-b004-6f69d7cc4c8b',\n",
      "            database_id='c480f4cb-d51b-433d-812c-c3ca629edc30',\n",
      "        ),\n",
      "        description='',\n",
      "        emoji='1F48E',\n",
      "        current_status='DATABASE_STATUS_RUNNING',\n",
      "        health_status='DATABASE_HEALTH_STATUS_UNSPECIFIED',\n",
      "        data_size_full=0,\n",
      "        data_size_compressed=0,\n",
      "        is_system_database=False,\n",
      "        storage_bucket_name='c480f4cb-d51b-433d-812c-c3ca629edc30',\n",
      "        create_time=datetime.datetime(2021, 11, 4, 18, 10, 50, 955120, tzinfo=datetime.timezone.utc),\n",
      "        create_actor='/users/6fffb386-895f-4444-809f-45214234f2f3',\n",
      "        last_update_time=datetime.datetime(2021, 11, 4, 18, 10, 50, 955120, tzinfo=datetime.timezone.utc),\n",
      "        last_update_actor='/users/6fffb386-895f-4444-809f-45214234f2f3',\n",
      "        desired_status='DATABASE_STATUS_UNSPECIFIED',\n",
      "    ) (Database)\n"
     ]
    },
    {
     "data": {
      "text/plain": [
       "Database(name='temp_1636049214', compute_region_key=RegionKey(provider_id='402a51bb-1c8e-4dc4-9e05-ced3c1e2186e', region_id='f1841f9f-4031-4a9a-b3d7-1dc27e7e61ed'), database_key=DatabaseKey(account_id='15ff9dd6-32a6-417b-b004-6f69d7cc4c8b', database_id='c480f4cb-d51b-433d-812c-c3ca629edc30'), description='', emoji='1F48E', current_status='DATABASE_STATUS_RUNNING', health_status='DATABASE_HEALTH_STATUS_UNSPECIFIED', data_size_full=0, data_size_compressed=0, is_system_database=False, storage_bucket_name='c480f4cb-d51b-433d-812c-c3ca629edc30', create_time=datetime.datetime(2021, 11, 4, 18, 10, 50, 955120, tzinfo=datetime.timezone.utc), create_actor='/users/6fffb386-895f-4444-809f-45214234f2f3', last_update_time=datetime.datetime(2021, 11, 4, 18, 10, 50, 955120, tzinfo=datetime.timezone.utc), last_update_actor='/users/6fffb386-895f-4444-809f-45214234f2f3', desired_status='DATABASE_STATUS_UNSPECIFIED')"
      ]
     },
     "execution_count": 13,
     "metadata": {},
     "output_type": "execute_result"
    }
   ],
   "source": [
    "database = rm.databases.create(name=database_name, region=\"us-east-1\")\n",
    "debug(database)"
   ]
  },
  {
   "cell_type": "markdown",
   "id": "4518f956",
   "metadata": {},
   "source": [
    "### Get by name"
   ]
  },
  {
   "cell_type": "code",
   "execution_count": 14,
   "id": "a9b0f0b0",
   "metadata": {},
   "outputs": [
    {
     "name": "stdout",
     "output_type": "stream",
     "text": [
      "/var/folders/46/smjdxy0541s253bfdvwg8r_h0000gn/T/ipykernel_92353/3633625428.py:2 <module>\n",
      "    database: Database(\n",
      "        name='temp_1636049214',\n",
      "        compute_region_key=RegionKey(\n",
      "            provider_id='402a51bb-1c8e-4dc4-9e05-ced3c1e2186e',\n",
      "            region_id='f1841f9f-4031-4a9a-b3d7-1dc27e7e61ed',\n",
      "        ),\n",
      "        database_key=DatabaseKey(\n",
      "            account_id='15ff9dd6-32a6-417b-b004-6f69d7cc4c8b',\n",
      "            database_id='c480f4cb-d51b-433d-812c-c3ca629edc30',\n",
      "        ),\n",
      "        description='',\n",
      "        emoji='1F48E',\n",
      "        current_status='DATABASE_STATUS_RUNNING',\n",
      "        health_status='DATABASE_HEALTH_STATUS_UNSPECIFIED',\n",
      "        data_size_full=0,\n",
      "        data_size_compressed=0,\n",
      "        is_system_database=False,\n",
      "        storage_bucket_name='c480f4cb-d51b-433d-812c-c3ca629edc30',\n",
      "        create_time=datetime.datetime(2021, 11, 4, 18, 10, 50, 955120, tzinfo=datetime.timezone.utc),\n",
      "        create_actor='/users/6fffb386-895f-4444-809f-45214234f2f3',\n",
      "        last_update_time=datetime.datetime(2021, 11, 4, 18, 10, 50, 955120, tzinfo=datetime.timezone.utc),\n",
      "        last_update_actor='/users/6fffb386-895f-4444-809f-45214234f2f3',\n",
      "        desired_status='DATABASE_STATUS_UNSPECIFIED',\n",
      "    ) (Database)\n"
     ]
    },
    {
     "data": {
      "text/plain": [
       "Database(name='temp_1636049214', compute_region_key=RegionKey(provider_id='402a51bb-1c8e-4dc4-9e05-ced3c1e2186e', region_id='f1841f9f-4031-4a9a-b3d7-1dc27e7e61ed'), database_key=DatabaseKey(account_id='15ff9dd6-32a6-417b-b004-6f69d7cc4c8b', database_id='c480f4cb-d51b-433d-812c-c3ca629edc30'), description='', emoji='1F48E', current_status='DATABASE_STATUS_RUNNING', health_status='DATABASE_HEALTH_STATUS_UNSPECIFIED', data_size_full=0, data_size_compressed=0, is_system_database=False, storage_bucket_name='c480f4cb-d51b-433d-812c-c3ca629edc30', create_time=datetime.datetime(2021, 11, 4, 18, 10, 50, 955120, tzinfo=datetime.timezone.utc), create_actor='/users/6fffb386-895f-4444-809f-45214234f2f3', last_update_time=datetime.datetime(2021, 11, 4, 18, 10, 50, 955120, tzinfo=datetime.timezone.utc), last_update_actor='/users/6fffb386-895f-4444-809f-45214234f2f3', desired_status='DATABASE_STATUS_UNSPECIFIED')"
      ]
     },
     "execution_count": 14,
     "metadata": {},
     "output_type": "execute_result"
    }
   ],
   "source": [
    "database = rm.databases.get_by_name(name=database_name)\n",
    "debug(database)"
   ]
  },
  {
   "cell_type": "markdown",
   "id": "ea32cf4b",
   "metadata": {},
   "source": [
    "### Get engines attached to a database"
   ]
  },
  {
   "cell_type": "code",
   "execution_count": 15,
   "id": "116e3a30",
   "metadata": {},
   "outputs": [
    {
     "name": "stdout",
     "output_type": "stream",
     "text": [
      "/var/folders/46/smjdxy0541s253bfdvwg8r_h0000gn/T/ipykernel_92353/1455090220.py:3 <module>\n",
      "    engines: [] (list) len=0\n"
     ]
    },
    {
     "data": {
      "text/plain": [
       "[]"
      ]
     },
     "execution_count": 15,
     "metadata": {},
     "output_type": "execute_result"
    }
   ],
   "source": [
    "engines = database.get_attached_engines()\n",
    "\n",
    "debug(engines)"
   ]
  },
  {
   "cell_type": "markdown",
   "id": "bf78ffc5",
   "metadata": {},
   "source": [
    "# Engine"
   ]
  },
  {
   "cell_type": "markdown",
   "id": "6aeee8cc",
   "metadata": {},
   "source": [
    "### Create engine"
   ]
  },
  {
   "cell_type": "code",
   "execution_count": 16,
   "id": "9dad9f23",
   "metadata": {
    "scrolled": false
   },
   "outputs": [
    {
     "name": "stdout",
     "output_type": "stream",
     "text": [
      "/var/folders/46/smjdxy0541s253bfdvwg8r_h0000gn/T/ipykernel_92353/4054363409.py:2 <module>\n",
      "    engine: Engine(\n",
      "        name='temp_1636049214',\n",
      "        compute_region_key=RegionKey(\n",
      "            provider_id='402a51bb-1c8e-4dc4-9e05-ced3c1e2186e',\n",
      "            region_id='f1841f9f-4031-4a9a-b3d7-1dc27e7e61ed',\n",
      "        ),\n",
      "        settings=EngineSettings(\n",
      "            preset='ENGINE_SETTINGS_PRESET_GENERAL_PURPOSE',\n",
      "            auto_stop_delay_duration='1200s',\n",
      "            minimum_logging_level='ENGINE_SETTINGS_LOGGING_LEVEL_INFO',\n",
      "            is_read_only=False,\n",
      "            warm_up='ENGINE_SETTINGS_WARM_UP_INDEXES',\n",
      "        ),\n",
      "        key=EngineKey(\n",
      "            account_id='15ff9dd6-32a6-417b-b004-6f69d7cc4c8b',\n",
      "            engine_id='1c1a2ada-1b91-4f43-a5e9-2e2c595dbfd5',\n",
      "        ),\n",
      "        description='',\n",
      "        emoji='1F48E',\n",
      "        current_status=<EngineStatus.ENGINE_STATUS_CREATED: 'ENGINE_STATUS_CREATED'>,\n",
      "        current_status_summary=<EngineStatusSummary.ENGINE_STATUS_SUMMARY_STOPPED: 'ENGINE_STATUS_SUMMARY_STOPPED'>,\n",
      "        latest_revision_key=EngineRevisionKey(\n",
      "            account_id='15ff9dd6-32a6-417b-b004-6f69d7cc4c8b',\n",
      "            engine_id='1c1a2ada-1b91-4f43-a5e9-2e2c595dbfd5',\n",
      "            engine_revision_id='c3140d45-a1d5-4d24-ba03-5cef7e2168de',\n",
      "        ),\n",
      "        endpoint='temp-1636049214.firebolt.us-east-1.dev.firebolt.io',\n",
      "        endpoint_serving_revision_key=None,\n",
      "        create_time=datetime.datetime(2021, 11, 4, 18, 11, 3, 799750, tzinfo=datetime.timezone.utc),\n",
      "        create_actor='/users/6fffb386-895f-4444-809f-45214234f2f3',\n",
      "        last_update_time=datetime.datetime(2021, 11, 4, 18, 11, 3, 799750, tzinfo=datetime.timezone.utc),\n",
      "        last_update_actor='/users/6fffb386-895f-4444-809f-45214234f2f3',\n",
      "        last_use_time=None,\n",
      "        desired_status='ENGINE_STATUS_UNSPECIFIED',\n",
      "        health_status='ENGINE_HEALTH_STATUS_UNSPECIFIED',\n",
      "        endpoint_desired_revision_key=None,\n",
      "    ) (Engine)\n"
     ]
    },
    {
     "data": {
      "text/plain": [
       "Engine(name='temp_1636049214', compute_region_key=RegionKey(provider_id='402a51bb-1c8e-4dc4-9e05-ced3c1e2186e', region_id='f1841f9f-4031-4a9a-b3d7-1dc27e7e61ed'), settings=EngineSettings(preset='ENGINE_SETTINGS_PRESET_GENERAL_PURPOSE', auto_stop_delay_duration='1200s', minimum_logging_level='ENGINE_SETTINGS_LOGGING_LEVEL_INFO', is_read_only=False, warm_up='ENGINE_SETTINGS_WARM_UP_INDEXES'), key=EngineKey(account_id='15ff9dd6-32a6-417b-b004-6f69d7cc4c8b', engine_id='1c1a2ada-1b91-4f43-a5e9-2e2c595dbfd5'), description='', emoji='1F48E', current_status=<EngineStatus.ENGINE_STATUS_CREATED: 'ENGINE_STATUS_CREATED'>, current_status_summary=<EngineStatusSummary.ENGINE_STATUS_SUMMARY_STOPPED: 'ENGINE_STATUS_SUMMARY_STOPPED'>, latest_revision_key=EngineRevisionKey(account_id='15ff9dd6-32a6-417b-b004-6f69d7cc4c8b', engine_id='1c1a2ada-1b91-4f43-a5e9-2e2c595dbfd5', engine_revision_id='c3140d45-a1d5-4d24-ba03-5cef7e2168de'), endpoint='temp-1636049214.firebolt.us-east-1.dev.firebolt.io', endpoint_serving_revision_key=None, create_time=datetime.datetime(2021, 11, 4, 18, 11, 3, 799750, tzinfo=datetime.timezone.utc), create_actor='/users/6fffb386-895f-4444-809f-45214234f2f3', last_update_time=datetime.datetime(2021, 11, 4, 18, 11, 3, 799750, tzinfo=datetime.timezone.utc), last_update_actor='/users/6fffb386-895f-4444-809f-45214234f2f3', last_use_time=None, desired_status='ENGINE_STATUS_UNSPECIFIED', health_status='ENGINE_HEALTH_STATUS_UNSPECIFIED', endpoint_desired_revision_key=None)"
      ]
     },
     "execution_count": 16,
     "metadata": {},
     "output_type": "execute_result"
    }
   ],
   "source": [
    "engine = rm.engines.create(name=engine_name)\n",
    "debug(engine)"
   ]
  },
  {
   "cell_type": "markdown",
   "id": "96138b51",
   "metadata": {},
   "source": [
    "### Get by name"
   ]
  },
  {
   "cell_type": "code",
   "execution_count": 17,
   "id": "fd76fb57",
   "metadata": {},
   "outputs": [
    {
     "name": "stdout",
     "output_type": "stream",
     "text": [
      "/var/folders/46/smjdxy0541s253bfdvwg8r_h0000gn/T/ipykernel_92353/3772674844.py:2 <module>\n",
      "    engine: Engine(\n",
      "        name='temp_1636049214',\n",
      "        compute_region_key=RegionKey(\n",
      "            provider_id='402a51bb-1c8e-4dc4-9e05-ced3c1e2186e',\n",
      "            region_id='f1841f9f-4031-4a9a-b3d7-1dc27e7e61ed',\n",
      "        ),\n",
      "        settings=EngineSettings(\n",
      "            preset='ENGINE_SETTINGS_PRESET_GENERAL_PURPOSE',\n",
      "            auto_stop_delay_duration='1200s',\n",
      "            minimum_logging_level='ENGINE_SETTINGS_LOGGING_LEVEL_INFO',\n",
      "            is_read_only=False,\n",
      "            warm_up='ENGINE_SETTINGS_WARM_UP_INDEXES',\n",
      "        ),\n",
      "        key=EngineKey(\n",
      "            account_id='15ff9dd6-32a6-417b-b004-6f69d7cc4c8b',\n",
      "            engine_id='1c1a2ada-1b91-4f43-a5e9-2e2c595dbfd5',\n",
      "        ),\n",
      "        description='',\n",
      "        emoji='1F48E',\n",
      "        current_status=<EngineStatus.ENGINE_STATUS_CREATED: 'ENGINE_STATUS_CREATED'>,\n",
      "        current_status_summary=<EngineStatusSummary.ENGINE_STATUS_SUMMARY_STOPPED: 'ENGINE_STATUS_SUMMARY_STOPPED'>,\n",
      "        latest_revision_key=EngineRevisionKey(\n",
      "            account_id='15ff9dd6-32a6-417b-b004-6f69d7cc4c8b',\n",
      "            engine_id='1c1a2ada-1b91-4f43-a5e9-2e2c595dbfd5',\n",
      "            engine_revision_id='c3140d45-a1d5-4d24-ba03-5cef7e2168de',\n",
      "        ),\n",
      "        endpoint='temp-1636049214.firebolt.us-east-1.dev.firebolt.io',\n",
      "        endpoint_serving_revision_key=None,\n",
      "        create_time=datetime.datetime(2021, 11, 4, 18, 11, 3, 799750, tzinfo=datetime.timezone.utc),\n",
      "        create_actor='/users/6fffb386-895f-4444-809f-45214234f2f3',\n",
      "        last_update_time=datetime.datetime(2021, 11, 4, 18, 11, 3, 799750, tzinfo=datetime.timezone.utc),\n",
      "        last_update_actor='/users/6fffb386-895f-4444-809f-45214234f2f3',\n",
      "        last_use_time=None,\n",
      "        desired_status='ENGINE_STATUS_UNSPECIFIED',\n",
      "        health_status='ENGINE_HEALTH_STATUS_UNSPECIFIED',\n",
      "        endpoint_desired_revision_key=None,\n",
      "    ) (Engine)\n"
     ]
    },
    {
     "data": {
      "text/plain": [
       "Engine(name='temp_1636049214', compute_region_key=RegionKey(provider_id='402a51bb-1c8e-4dc4-9e05-ced3c1e2186e', region_id='f1841f9f-4031-4a9a-b3d7-1dc27e7e61ed'), settings=EngineSettings(preset='ENGINE_SETTINGS_PRESET_GENERAL_PURPOSE', auto_stop_delay_duration='1200s', minimum_logging_level='ENGINE_SETTINGS_LOGGING_LEVEL_INFO', is_read_only=False, warm_up='ENGINE_SETTINGS_WARM_UP_INDEXES'), key=EngineKey(account_id='15ff9dd6-32a6-417b-b004-6f69d7cc4c8b', engine_id='1c1a2ada-1b91-4f43-a5e9-2e2c595dbfd5'), description='', emoji='1F48E', current_status=<EngineStatus.ENGINE_STATUS_CREATED: 'ENGINE_STATUS_CREATED'>, current_status_summary=<EngineStatusSummary.ENGINE_STATUS_SUMMARY_STOPPED: 'ENGINE_STATUS_SUMMARY_STOPPED'>, latest_revision_key=EngineRevisionKey(account_id='15ff9dd6-32a6-417b-b004-6f69d7cc4c8b', engine_id='1c1a2ada-1b91-4f43-a5e9-2e2c595dbfd5', engine_revision_id='c3140d45-a1d5-4d24-ba03-5cef7e2168de'), endpoint='temp-1636049214.firebolt.us-east-1.dev.firebolt.io', endpoint_serving_revision_key=None, create_time=datetime.datetime(2021, 11, 4, 18, 11, 3, 799750, tzinfo=datetime.timezone.utc), create_actor='/users/6fffb386-895f-4444-809f-45214234f2f3', last_update_time=datetime.datetime(2021, 11, 4, 18, 11, 3, 799750, tzinfo=datetime.timezone.utc), last_update_actor='/users/6fffb386-895f-4444-809f-45214234f2f3', last_use_time=None, desired_status='ENGINE_STATUS_UNSPECIFIED', health_status='ENGINE_HEALTH_STATUS_UNSPECIFIED', endpoint_desired_revision_key=None)"
      ]
     },
     "execution_count": 17,
     "metadata": {},
     "output_type": "execute_result"
    }
   ],
   "source": [
    "engine = rm.engines.get_by_name(name=engine_name)\n",
    "debug(engine)"
   ]
  },
  {
   "cell_type": "markdown",
   "id": "14aedbac",
   "metadata": {},
   "source": [
    "### Attach to database"
   ]
  },
  {
   "cell_type": "code",
   "execution_count": 18,
   "id": "9fc01024",
   "metadata": {},
   "outputs": [
    {
     "data": {
      "text/plain": [
       "Binding(binding_key=BindingKey(account_id='15ff9dd6-32a6-417b-b004-6f69d7cc4c8b', database_id='c480f4cb-d51b-433d-812c-c3ca629edc30', engine_id='1c1a2ada-1b91-4f43-a5e9-2e2c595dbfd5'), is_default_engine=False, current_status='BINDING_STATUS_UNSPECIFIED', health_status='BINDING_HEALTH_STATUS_UNSPECIFIED', create_time=datetime.datetime(2021, 11, 4, 18, 11, 9, 588716, tzinfo=datetime.timezone.utc), create_actor='/users/6fffb386-895f-4444-809f-45214234f2f3', last_update_time=datetime.datetime(2021, 11, 4, 18, 11, 9, 588716, tzinfo=datetime.timezone.utc), last_update_actor='/users/6fffb386-895f-4444-809f-45214234f2f3', desired_status='BINDING_STATUS_UNSPECIFIED')"
      ]
     },
     "execution_count": 18,
     "metadata": {},
     "output_type": "execute_result"
    }
   ],
   "source": [
    "engine.attach_to_database(database=rm.databases.get_by_name(name=database_name))"
   ]
  },
  {
   "cell_type": "markdown",
   "id": "a1e60b06",
   "metadata": {},
   "source": [
    "### Start"
   ]
  },
  {
   "cell_type": "code",
   "execution_count": null,
   "id": "cf032a2c",
   "metadata": {},
   "outputs": [],
   "source": [
    "engine = engine.start()\n",
    "debug(engine)"
   ]
  },
  {
   "cell_type": "markdown",
   "id": "bf9dcb97",
   "metadata": {},
   "source": [
    "### Run a query"
   ]
  },
  {
   "cell_type": "code",
   "execution_count": null,
   "id": "aef5ceb4",
   "metadata": {},
   "outputs": [],
   "source": [
    "connection = engine.get_connection()\n",
    "cursor = connection.cursor()\n",
    "result = cursor.execute(\"select 1\")\n",
    "debug(result)\n",
    "\n",
    "cursor.close()"
   ]
  },
  {
   "cell_type": "markdown",
   "id": "b241f1a4",
   "metadata": {},
   "source": [
    "### Stop"
   ]
  },
  {
   "cell_type": "code",
   "execution_count": null,
   "id": "a069e9eb",
   "metadata": {
    "scrolled": false
   },
   "outputs": [],
   "source": [
    "stopped_engine = engine.stop()\n",
    "debug(stopped_engine)"
   ]
  },
  {
   "cell_type": "markdown",
   "id": "bde3d38b",
   "metadata": {},
   "source": [
    "### Get an engine's database"
   ]
  },
  {
   "cell_type": "code",
   "execution_count": null,
   "id": "1728ae68",
   "metadata": {},
   "outputs": [],
   "source": [
    "debug(engine.database)"
   ]
  },
  {
   "cell_type": "markdown",
   "id": "7639a535",
   "metadata": {},
   "source": [
    "# Region, Instance Types"
   ]
  },
  {
   "cell_type": "markdown",
   "id": "ddf4098d",
   "metadata": {},
   "source": [
    "### Get default region, and an instance_type\n",
    "An example of these might be:\n",
    " * provider: AWS\n",
    " * region: us-east-1\n",
    " * instance_type: i3.4xlarge"
   ]
  },
  {
   "cell_type": "code",
   "execution_count": null,
   "id": "8372e49f",
   "metadata": {
    "scrolled": false
   },
   "outputs": [],
   "source": [
    "debug(rm.regions.default_region)\n",
    "debug(rm.instance_types.get_by_name(instance_type_name=\"i3.4xlarge\"))"
   ]
  }
 ],
 "metadata": {
  "kernelspec": {
   "display_name": "Python 3 (ipykernel)",
   "language": "python",
   "name": "python3"
  },
  "language_info": {
   "codemirror_mode": {
    "name": "ipython",
    "version": 3
   },
   "file_extension": ".py",
   "mimetype": "text/x-python",
   "name": "python",
   "nbconvert_exporter": "python",
   "pygments_lexer": "ipython3",
   "version": "3.8.12"
  }
 },
 "nbformat": 4,
 "nbformat_minor": 5
}
