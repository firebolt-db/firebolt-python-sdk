{
 "cells": [
  {
   "cell_type": "markdown",
   "id": "2c6619ae",
   "metadata": {},
   "source": [
    "# Imports"
   ]
  },
  {
   "cell_type": "code",
   "execution_count": null,
   "id": "db711a30",
   "metadata": {},
   "outputs": [],
   "source": [
    "# required imports\n",
    "from firebolt.service.manager import ResourceManager\n",
    "from firebolt.client import DEFAULT_API_URL\n",
    "from firebolt.client.auth import ClientCredentials\n",
    "\n",
    "# use debug function for pretty printing\n",
    "from devtools import debug"
   ]
  },
  {
   "cell_type": "markdown",
   "id": "443e8468",
   "metadata": {},
   "source": [
    "# Logging"
   ]
  },
  {
   "cell_type": "code",
   "execution_count": null,
   "id": "5994e2ff",
   "metadata": {},
   "outputs": [],
   "source": [
    "# configure logging\n",
    "import logging\n",
    "\n",
    "logging.basicConfig(\n",
    "    format=\"{asctime} - {name} - {levelname} - {message}\", style=\"{\", level=\"INFO\"\n",
    ")\n",
    "\n",
    "# uncomment to show every web request\n",
    "# logging.getLogger(\"firebolt.client\").setLevel(\"DEBUG\")\n",
    "\n",
    "# uncomment to suppress info messages from core database/engine operations\n",
    "# logging.getLogger(\"firebolt.service\").setLevel(\"WARNING\")\n",
    "# logging.getLogger(\"firebolt.model\").setLevel(\"WARNING\")\n",
    "\n",
    "# uncomment to suppress info messages from running queries\n",
    "# logging.getLogger(\"firebolt.db\").setLevel(\"WARNING\")"
   ]
  },
  {
   "cell_type": "markdown",
   "id": "97388a98",
   "metadata": {},
   "source": [
    "# Initialize ResourceManager"
   ]
  },
  {
   "cell_type": "code",
   "execution_count": null,
   "id": "204d3ea8-84f3-4825-8940-e51405d3f451",
   "metadata": {},
   "outputs": [],
   "source": [
    "client_id = \"\"\n",
    "client_secret = \"\"\n",
    "account_name = \"\"\n",
    "api_endpoint = DEFAULT_API_URL  # Optional"
   ]
  },
  {
   "cell_type": "code",
   "execution_count": null,
   "id": "4bb2e141",
   "metadata": {
    "scrolled": true
   },
   "outputs": [],
   "source": [
    "rm = ResourceManager(\n",
    "    auth=ClientCredentials(client_id, client_secret),\n",
    "    account_name=account_name,\n",
    "    api_endpoint=api_endpoint,\n",
    ")"
   ]
  },
  {
   "cell_type": "markdown",
   "id": "cd874695",
   "metadata": {},
   "source": [
    "Specify a database_name and engine_name below if you want, or run as-is to use the defaults."
   ]
  },
  {
   "cell_type": "code",
   "execution_count": null,
   "id": "5b40dfdd",
   "metadata": {},
   "outputs": [],
   "source": [
    "import time\n",
    "\n",
    "default_name = f\"temp_{int(time.time())}\"\n",
    "database_name = default_name  # Change to use you own name for creating a new database\n",
    "engine_name = default_name  # Change to use you own name for creating a new engine"
   ]
  },
  {
   "cell_type": "markdown",
   "id": "fea50dfa",
   "metadata": {},
   "source": [
    "# Database"
   ]
  },
  {
   "cell_type": "markdown",
   "id": "b111f874",
   "metadata": {},
   "source": [
    "### Create database"
   ]
  },
  {
   "cell_type": "code",
   "execution_count": null,
   "id": "cdbeedd3",
   "metadata": {},
   "outputs": [],
   "source": [
    "database = rm.databases.create(name=database_name, region=\"us-east-1\")\n",
    "debug(database)"
   ]
  },
  {
   "cell_type": "markdown",
   "id": "4518f956",
   "metadata": {},
   "source": [
    "### Get by name"
   ]
  },
  {
   "cell_type": "code",
   "execution_count": null,
   "id": "a9b0f0b0",
   "metadata": {},
   "outputs": [],
   "source": [
    "database = rm.databases.get(database_name)\n",
    "debug(database)"
   ]
  },
  {
   "cell_type": "markdown",
   "id": "ea32cf4b",
   "metadata": {},
   "source": [
    "### Get engines attached to a database"
   ]
  },
  {
   "cell_type": "code",
   "execution_count": null,
   "id": "116e3a30",
   "metadata": {},
   "outputs": [],
   "source": [
    "engines = database.get_attached_engines()\n",
    "\n",
    "debug(engines)"
   ]
  },
  {
   "cell_type": "markdown",
   "id": "bf78ffc5",
   "metadata": {},
   "source": [
    "# Engine"
   ]
  },
  {
   "cell_type": "markdown",
   "id": "6aeee8cc",
   "metadata": {},
   "source": [
    "### Create engine"
   ]
  },
  {
   "cell_type": "code",
   "execution_count": null,
   "id": "9dad9f23",
   "metadata": {},
   "outputs": [],
   "source": [
    "engine = rm.engines.create(name=engine_name)\n",
    "debug(engine)"
   ]
  },
  {
   "cell_type": "markdown",
   "id": "96138b51",
   "metadata": {},
   "source": [
    "### Get by name"
   ]
  },
  {
   "cell_type": "code",
   "execution_count": null,
   "id": "fd76fb57",
   "metadata": {},
   "outputs": [],
   "source": [
    "engine = rm.engines.get(engine_name)\n",
    "debug(engine)"
   ]
  },
  {
   "cell_type": "markdown",
   "id": "14aedbac",
   "metadata": {},
   "source": [
    "### Attach to database"
   ]
  },
  {
   "cell_type": "code",
   "execution_count": null,
   "id": "9fc01024",
   "metadata": {},
   "outputs": [],
   "source": [
    "# Attaching an already attached engine will raise an OperationalError\n",
    "if not engine.database:\n",
    "    engine.attach_to_database(database=rm.databases.get(database_name))\n",
    "\n",
    "debug(engine.database)"
   ]
  },
  {
   "cell_type": "markdown",
   "id": "a1e60b06",
   "metadata": {},
   "source": [
    "### Start"
   ]
  },
  {
   "cell_type": "code",
   "execution_count": null,
   "id": "cf032a2c",
   "metadata": {},
   "outputs": [],
   "source": [
    "engine = engine.start()\n",
    "debug(engine)"
   ]
  },
  {
   "cell_type": "markdown",
   "id": "bf9dcb97",
   "metadata": {},
   "source": [
    "### Run a query"
   ]
  },
  {
   "cell_type": "code",
   "execution_count": null,
   "id": "aef5ceb4",
   "metadata": {},
   "outputs": [],
   "source": [
    "with engine.get_connection() as connection:\n",
    "    with connection.cursor() as cursor:\n",
    "        result = cursor.execute(\"select 1\")\n",
    "        debug(result)"
   ]
  },
  {
   "cell_type": "markdown",
   "id": "b241f1a4",
   "metadata": {},
   "source": [
    "### Stop"
   ]
  },
  {
   "cell_type": "code",
   "execution_count": null,
   "id": "a069e9eb",
   "metadata": {},
   "outputs": [],
   "source": [
    "stopped_engine = engine.stop()\n",
    "debug(stopped_engine)"
   ]
  },
  {
   "cell_type": "markdown",
   "id": "bde3d38b",
   "metadata": {},
   "source": [
    "### Get an engine's database"
   ]
  },
  {
   "cell_type": "code",
   "execution_count": null,
   "id": "1728ae68",
   "metadata": {},
   "outputs": [],
   "source": [
    "debug(engine.database)"
   ]
  },
  {
   "cell_type": "markdown",
   "id": "7639a535",
   "metadata": {},
   "source": [
    "# Instance Types"
   ]
  },
  {
   "cell_type": "markdown",
   "id": "ddf4098d",
   "metadata": {},
   "source": [
    "### Get an instance type by name"
   ]
  },
  {
   "cell_type": "code",
   "execution_count": null,
   "id": "8372e49f",
   "metadata": {},
   "outputs": [],
   "source": [
    "instance_type = rm.instance_types.get(\"B2\")\n",
    "debug(instance_type)"
   ]
  },
  {
   "cell_type": "markdown",
   "id": "2d213b1a-bf08-424b-ba87-51866c8b65f4",
   "metadata": {},
   "source": [
    "### Get cheapest available instance type"
   ]
  },
  {
   "cell_type": "code",
   "execution_count": null,
   "id": "53ce76b8-62a9-4eaa-a730-6dd268aab588",
   "metadata": {},
   "outputs": [],
   "source": [
    "cheapest_instance_type = rm.instance_types.cheapest_instance\n",
    "debug(cheapest_instance_type)"
   ]
  }
 ],
 "metadata": {
  "kernelspec": {
   "display_name": "Python 3 (ipykernel)",
   "language": "python",
   "name": "python3"
  },
  "language_info": {
   "codemirror_mode": {
    "name": "ipython",
    "version": 3
   },
   "file_extension": ".py",
   "mimetype": "text/x-python",
   "name": "python",
   "nbconvert_exporter": "python",
   "pygments_lexer": "ipython3",
   "version": "3.9.16"
  }
 },
 "nbformat": 4,
 "nbformat_minor": 5
}
