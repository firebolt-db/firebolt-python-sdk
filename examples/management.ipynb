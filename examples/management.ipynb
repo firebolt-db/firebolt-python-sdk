{
 "cells": [
  {
   "cell_type": "markdown",
   "id": "2c6619ae",
   "metadata": {},
   "source": [
    "# Imports"
   ]
  },
  {
   "cell_type": "code",
   "execution_count": null,
   "id": "93073ef6",
   "metadata": {},
   "outputs": [],
   "source": [
    "# required imports\n",
    "from firebolt.service.manager import ResourceManager\n",
    "\n",
    "# use debug function for pretty printing\n",
    "from devtools import debug"
   ]
  },
  {
   "cell_type": "markdown",
   "id": "443e8468",
   "metadata": {},
   "source": [
    "# Logging"
   ]
  },
  {
   "cell_type": "code",
   "execution_count": null,
   "id": "5994e2ff",
   "metadata": {},
   "outputs": [],
   "source": [
    "# configure logging\n",
    "import logging\n",
    "\n",
    "logging.basicConfig(\n",
    "    format=\"{asctime} - {name} - {levelname} - {message}\", style=\"{\", level=\"INFO\"\n",
    ")\n",
    "\n",
    "# uncomment to show every web request\n",
    "# logging.getLogger(\"firebolt.client\").setLevel(\"DEBUG\")"
   ]
  },
  {
   "cell_type": "markdown",
   "id": "bc5376bc",
   "metadata": {},
   "source": [
    "# Configure ResourceManager"
   ]
  },
  {
   "cell_type": "markdown",
   "id": "4efaddf9",
   "metadata": {},
   "source": [
    "**Option 1**: create a `.env` file with the following contents (fill in values):\n",
    "```\n",
    "FIREBOLT_USER=''\n",
    "FIREBOLT_PASSWORD=''\n",
    "FIREBOLT_SERVER=''\n",
    "FIREBOLT_DEFAULT_REGION=''\n",
    "```\n",
    "(or ensure these env vars are already set)"
   ]
  },
  {
   "cell_type": "code",
   "execution_count": null,
   "id": "bf3a14e2",
   "metadata": {},
   "outputs": [],
   "source": [
    "settings = None"
   ]
  },
  {
   "cell_type": "markdown",
   "id": "f1626c0e",
   "metadata": {},
   "source": [
    "**Option 2**: Specify settings manually using the Settings object:"
   ]
  },
  {
   "cell_type": "code",
   "execution_count": null,
   "id": "e2c17737",
   "metadata": {},
   "outputs": [],
   "source": [
    "from firebolt.common import Settings\n",
    "\n",
    "settings = Settings(\n",
    "    server=\"\",  # api.app.firebolt.io\n",
    "    user=\"\",\n",
    "    password=\"\",\n",
    "    default_region=\"\",  # us-east-1\n",
    ")"
   ]
  },
  {
   "cell_type": "markdown",
   "id": "97388a98",
   "metadata": {},
   "source": [
    "# Initialize ResourceManager"
   ]
  },
  {
   "cell_type": "code",
   "execution_count": null,
   "id": "4bb2e141",
   "metadata": {
    "scrolled": true
   },
   "outputs": [],
   "source": [
    "rm = ResourceManager(settings=settings)\n",
    "\n",
    "# see your account_id\n",
    "debug(rm.account_id)\n",
    "\n",
    "# see your settings\n",
    "debug(rm.settings)"
   ]
  },
  {
   "cell_type": "markdown",
   "id": "cd874695",
   "metadata": {},
   "source": [
    "Specify a database_name and engine_name below if you want, or run as-is to use the defaults."
   ]
  },
  {
   "cell_type": "code",
   "execution_count": null,
   "id": "5b40dfdd",
   "metadata": {},
   "outputs": [],
   "source": [
    "import time\n",
    "\n",
    "default_name = f\"temp_{int(time.time())}\"\n",
    "database_name = \"\" or default_name\n",
    "engine_name = \"\" or default_name"
   ]
  },
  {
   "cell_type": "markdown",
   "id": "fea50dfa",
   "metadata": {},
   "source": [
    "# Database"
   ]
  },
  {
   "cell_type": "markdown",
   "id": "b111f874",
   "metadata": {},
   "source": [
    "### Create database"
   ]
  },
  {
   "cell_type": "code",
   "execution_count": null,
   "id": "cdbeedd3",
   "metadata": {},
   "outputs": [],
   "source": [
    "database = rm.databases.create(name=database_name, region=\"us-east-1\")\n",
    "debug(database)"
   ]
  },
  {
   "cell_type": "markdown",
   "id": "4518f956",
   "metadata": {},
   "source": [
    "### Get by name"
   ]
  },
  {
   "cell_type": "code",
   "execution_count": null,
   "id": "a9b0f0b0",
   "metadata": {},
   "outputs": [],
   "source": [
    "database = rm.databases.get_by_name(name=database_name)\n",
    "debug(database)"
   ]
  },
  {
   "cell_type": "markdown",
   "id": "ea32cf4b",
   "metadata": {},
   "source": [
    "### Get engines attached to a database"
   ]
  },
  {
   "cell_type": "code",
   "execution_count": null,
   "id": "116e3a30",
   "metadata": {},
   "outputs": [],
   "source": [
    "engines = database.get_attached_engines()\n",
    "\n",
    "debug(engines)"
   ]
  },
  {
   "cell_type": "markdown",
   "id": "bf78ffc5",
   "metadata": {},
   "source": [
    "# Engine"
   ]
  },
  {
   "cell_type": "markdown",
   "id": "6aeee8cc",
   "metadata": {},
   "source": [
    "### Create engine"
   ]
  },
  {
   "cell_type": "code",
   "execution_count": null,
   "id": "9dad9f23",
   "metadata": {
    "scrolled": false
   },
   "outputs": [],
   "source": [
    "engine = rm.engines.create(name=engine_name)\n",
    "debug(engine)"
   ]
  },
  {
   "cell_type": "markdown",
   "id": "96138b51",
   "metadata": {},
   "source": [
    "### Get by name"
   ]
  },
  {
   "cell_type": "code",
   "execution_count": null,
   "id": "fd76fb57",
   "metadata": {},
   "outputs": [],
   "source": [
    "engine = rm.engines.get_by_name(name=engine_name)\n",
    "debug(engine)"
   ]
  },
  {
   "cell_type": "markdown",
   "id": "14aedbac",
   "metadata": {},
   "source": [
    "### Attach to database"
   ]
  },
  {
   "cell_type": "code",
   "execution_count": null,
   "id": "9fc01024",
   "metadata": {},
   "outputs": [],
   "source": [
    "engine.attach_to_database(database=rm.databases.get_by_name(name=database_name))"
   ]
  },
  {
   "cell_type": "markdown",
   "id": "a1e60b06",
   "metadata": {},
   "source": [
    "### Start"
   ]
  },
  {
   "cell_type": "code",
   "execution_count": null,
   "id": "cf032a2c",
   "metadata": {},
   "outputs": [],
   "source": [
    "engine = engine.start()\n",
    "debug(engine)"
   ]
  },
  {
   "cell_type": "markdown",
   "id": "bf9dcb97",
   "metadata": {},
   "source": [
    "### Run a query"
   ]
  },
  {
   "cell_type": "code",
   "execution_count": null,
   "id": "aef5ceb4",
   "metadata": {},
   "outputs": [],
   "source": [
    "connection = engine.get_connection()\n",
    "cursor = connection.cursor()\n",
    "result = cursor.execute(\"select 1\")\n",
    "debug(result)\n",
    "\n",
    "cursor.close()"
   ]
  },
  {
   "cell_type": "markdown",
   "id": "b241f1a4",
   "metadata": {},
   "source": [
    "### Stop"
   ]
  },
  {
   "cell_type": "code",
   "execution_count": null,
   "id": "a069e9eb",
   "metadata": {
    "scrolled": false
   },
   "outputs": [],
   "source": [
    "stopped_engine = engine.stop()\n",
    "debug(stopped_engine)"
   ]
  },
  {
   "cell_type": "markdown",
   "id": "bde3d38b",
   "metadata": {},
   "source": [
    "### Get an engine's database"
   ]
  },
  {
   "cell_type": "code",
   "execution_count": null,
   "id": "1728ae68",
   "metadata": {},
   "outputs": [],
   "source": [
    "debug(engine.database)"
   ]
  },
  {
   "cell_type": "markdown",
   "id": "7639a535",
   "metadata": {},
   "source": [
    "# Region, Instance Types"
   ]
  },
  {
   "cell_type": "markdown",
   "id": "ddf4098d",
   "metadata": {},
   "source": [
    "### Get default region, and an instance_type\n",
    "An example of these might be:\n",
    " * provider: AWS\n",
    " * region: us-east-1\n",
    " * instance_type: i3.4xlarge"
   ]
  },
  {
   "cell_type": "code",
   "execution_count": null,
   "id": "8372e49f",
   "metadata": {
    "scrolled": false
   },
   "outputs": [],
   "source": [
    "debug(rm.regions.default_region)\n",
    "debug(rm.instance_types.get_by_name(instance_type_name=\"i3.4xlarge\"))"
   ]
  }
 ],
 "metadata": {
  "kernelspec": {
   "display_name": "Python 3 (ipykernel)",
   "language": "python",
   "name": "python3"
  },
  "language_info": {
   "codemirror_mode": {
    "name": "ipython",
    "version": 3
   },
   "file_extension": ".py",
   "mimetype": "text/x-python",
   "name": "python",
   "nbconvert_exporter": "python",
   "pygments_lexer": "ipython3",
   "version": "3.8.12"
  }
 },
 "nbformat": 4,
 "nbformat_minor": 5
}
