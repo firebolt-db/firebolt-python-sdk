{
 "cells": [
  {
   "cell_type": "code",
   "execution_count": 1,
   "id": "5994e2ff",
   "metadata": {},
   "outputs": [],
   "source": [
    "# required imports\n",
    "from firebolt.client.registry import init_firebolt_client\n",
    "\n",
    "# use debug function for pretty printing\n",
    "from devtools import debug\n",
    "\n",
    "# configure logging\n",
    "import logging\n",
    "\n",
    "logging.basicConfig(\n",
    "    format=\"{asctime} - {name} - {levelname} - {message}\", style=\"{\", level=\"INFO\"\n",
    ")\n",
    "\n",
    "# show every web request\n",
    "logging.getLogger(\"firebolt.http_client\").setLevel(\"DEBUG\")"
   ]
  },
  {
   "cell_type": "code",
   "execution_count": 2,
   "id": "46043f53",
   "metadata": {},
   "outputs": [],
   "source": [
    "from firebolt.service.database_service import DatabaseServiceV1"
   ]
  },
  {
   "cell_type": "code",
   "execution_count": 4,
   "id": "e4d4e28c",
   "metadata": {},
   "outputs": [
    {
     "name": "stdout",
     "output_type": "stream",
     "text": [
      "/var/folders/46/smjdxy0541s253bfdvwg8r_h0000gn/T/ipykernel_79451/2190712626.py:2 <module>\n",
      "    fc.base_url: URL('https://api.dev.firebolt.io') (URL)\n"
     ]
    },
    {
     "ename": "TypeError",
     "evalue": "__init__() missing 1 required positional argument: 'firebolt_client'",
     "output_type": "error",
     "traceback": [
      "\u001b[0;31m---------------------------------------------------------------------------\u001b[0m",
      "\u001b[0;31mTypeError\u001b[0m                                 Traceback (most recent call last)",
      "\u001b[0;32m/var/folders/46/smjdxy0541s253bfdvwg8r_h0000gn/T/ipykernel_79451/2190712626.py\u001b[0m in \u001b[0;36m<module>\u001b[0;34m\u001b[0m\n\u001b[1;32m      2\u001b[0m     \u001b[0mdebug\u001b[0m\u001b[0;34m(\u001b[0m\u001b[0mfc\u001b[0m\u001b[0;34m.\u001b[0m\u001b[0mbase_url\u001b[0m\u001b[0;34m)\u001b[0m\u001b[0;34m\u001b[0m\u001b[0;34m\u001b[0m\u001b[0m\n\u001b[1;32m      3\u001b[0m     database_service = (\n\u001b[0;32m----> 4\u001b[0;31m         \u001b[0mDatabaseServiceV1\u001b[0m\u001b[0;34m(\u001b[0m\u001b[0;34m)\u001b[0m\u001b[0;34m\u001b[0m\u001b[0;34m\u001b[0m\u001b[0m\n\u001b[0m\u001b[1;32m      5\u001b[0m     )  # implicitly uses fc because there is only 1 available\n\u001b[1;32m      6\u001b[0m     \u001b[0mdb\u001b[0m \u001b[0;34m=\u001b[0m \u001b[0mdatabase_service\u001b[0m\u001b[0;34m.\u001b[0m\u001b[0mget_by_name\u001b[0m\u001b[0;34m(\u001b[0m\u001b[0;34m\"eg_temp\"\u001b[0m\u001b[0;34m)\u001b[0m\u001b[0;34m\u001b[0m\u001b[0;34m\u001b[0m\u001b[0m\n",
      "\u001b[0;31mTypeError\u001b[0m: __init__() missing 1 required positional argument: 'firebolt_client'"
     ]
    }
   ],
   "source": [
    "with init_firebolt_client() as fc:\n",
    "    debug(fc.base_url)\n",
    "    database_service = (\n",
    "        DatabaseServiceV1()\n",
    "    )  # implicitly uses fc because there is only 1 available\n",
    "    db = database_service.get_by_name(\"eg_temp\")\n",
    "    debug(db)"
   ]
  },
  {
   "cell_type": "code",
   "execution_count": 3,
   "id": "f53d989e",
   "metadata": {},
   "outputs": [
    {
     "name": "stdout",
     "output_type": "stream",
     "text": [
      "/var/folders/46/smjdxy0541s253bfdvwg8r_h0000gn/T/ipykernel_79451/3904033391.py:2 <module>\n",
      "    fc.base_url: URL('https://api.dev.firebolt.io') (URL)\n",
      "/var/folders/46/smjdxy0541s253bfdvwg8r_h0000gn/T/ipykernel_79451/3904033391.py:5 <module>\n",
      "    db: Database(\n",
      "        name='eg_temp',\n",
      "        compute_region_key=RegionKey(\n",
      "            provider_id='402a51bb-1c8e-4dc4-9e05-ced3c1e2186e',\n",
      "            region_id='f1841f9f-4031-4a9a-b3d7-1dc27e7e61ed',\n",
      "        ),\n",
      "        database_key=DatabaseKey(\n",
      "            account_id='15ff9dd6-32a6-417b-b004-6f69d7cc4c8b',\n",
      "            database_id='358b6aad-a96a-4d95-9d19-b24740157a1e',\n",
      "        ),\n",
      "        description='',\n",
      "        emoji='1F3A5',\n",
      "        current_status='DATABASE_STATUS_RUNNING',\n",
      "        health_status='DATABASE_HEALTH_STATUS_UNSPECIFIED',\n",
      "        data_size_full=0,\n",
      "        data_size_compressed=0,\n",
      "        is_system_database=False,\n",
      "        storage_bucket_name='358b6aad-a96a-4d95-9d19-b24740157a1e',\n",
      "        create_time=datetime.datetime(2021, 8, 24, 9, 55, 52, 78923, tzinfo=datetime.timezone.utc),\n",
      "        create_actor='/users/6fffb386-895f-4444-809f-45214234f2f3',\n",
      "        last_update_time=datetime.datetime(2021, 8, 26, 18, 1, 54, 772643, tzinfo=datetime.timezone.utc),\n",
      "        last_update_actor='/users/6fffb386-895f-4444-809f-45214234f2f3',\n",
      "        desired_status='DATABASE_STATUS_UNSPECIFIED',\n",
      "    ) (Database)\n"
     ]
    }
   ],
   "source": [
    "with init_firebolt_client() as fc, init_firebolt_client() as fc2:\n",
    "    debug(fc.base_url)\n",
    "    database_service = DatabaseServiceV1(fc)  # explicitly passed\n",
    "    db = database_service.get_by_name(\"eg_temp\")\n",
    "    debug(db)"
   ]
  },
  {
   "cell_type": "code",
   "execution_count": null,
   "id": "086a95b9",
   "metadata": {},
   "outputs": [],
   "source": [
    "# should raise an error because we are using 2 clients but not specifying which one\n",
    "with init_firebolt_client() as fc, init_firebolt_client() as fc2:\n",
    "    debug(fc.base_url)\n",
    "    database_service = DatabaseService()\n",
    "    db = database_service.get_by_name(\"eg_temp\")\n",
    "    debug(db)"
   ]
  },
  {
   "cell_type": "code",
   "execution_count": null,
   "id": "dd2d7fea",
   "metadata": {},
   "outputs": [],
   "source": []
  }
 ],
 "metadata": {
  "kernelspec": {
   "display_name": "Python 3 (ipykernel)",
   "language": "python",
   "name": "python3"
  },
  "language_info": {
   "codemirror_mode": {
    "name": "ipython",
    "version": 3
   },
   "file_extension": ".py",
   "mimetype": "text/x-python",
   "name": "python",
   "nbconvert_exporter": "python",
   "pygments_lexer": "ipython3",
   "version": "3.9.6"
  }
 },
 "nbformat": 4,
 "nbformat_minor": 5
}
