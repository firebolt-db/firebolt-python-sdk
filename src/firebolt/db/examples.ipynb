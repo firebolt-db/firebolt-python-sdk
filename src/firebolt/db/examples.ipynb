{
 "cells": [
  {
   "cell_type": "markdown",
   "id": "5b4d0d97",
   "metadata": {},
   "source": [
    "### Required imports"
   ]
  },
  {
   "cell_type": "code",
   "execution_count": null,
   "id": "bdd3e404",
   "metadata": {},
   "outputs": [],
   "source": [
    "from firebolt.db import Connection\n",
    "from firebolt.client import DEFAULT_API_URL"
   ]
  },
  {
   "cell_type": "markdown",
   "id": "9cc3c3d4",
   "metadata": {},
   "source": [
    "### Database credentials"
   ]
  },
  {
   "cell_type": "code",
   "execution_count": null,
   "id": "0ce8b2d3",
   "metadata": {},
   "outputs": [],
   "source": [
    "database_name = \"\"\n",
    "engine_url = \"\"\n",
    "username = \"\"\n",
    "password = \"\"\n",
    "api_endpoint = DEFAULT_API_URL"
   ]
  },
  {
   "cell_type": "markdown",
   "id": "d09b5197",
   "metadata": {},
   "source": [
    "### Connecting to a database and creating cursor"
   ]
  },
  {
   "cell_type": "code",
   "execution_count": null,
   "id": "646869f7",
   "metadata": {},
   "outputs": [],
   "source": [
    "# create a connection based on provided credentials\n",
    "connection = Connection(\n",
    "    engine_url, database_name, username, password, api_endpoint=api_endpoint\n",
    ")\n",
    "\n",
    "# create a cursor for connection\n",
    "cursor = connection.cursor()"
   ]
  },
  {
   "cell_type": "markdown",
   "id": "93314f65",
   "metadata": {},
   "source": [
    "### Executing a query"
   ]
  },
  {
   "cell_type": "code",
   "execution_count": null,
   "id": "4bce6586",
   "metadata": {},
   "outputs": [],
   "source": [
    "cursor.execute(\n",
    "    \"create fact table if not exists test_table (id int, name text, dt datetime) primary index id\"\n",
    ")\n",
    "cursor.execute(\n",
    "    \"insert into test_table values (1, 'hello', '2021-01-01 01:01:01'),\"\n",
    "    \"(2, 'world', '2022-02-02 02:02:02'),\"\n",
    "    \"(3, '!', '2023-03-03 03:03:03')\"\n",
    ")\n",
    "cursor.execute(\"select * from test_table\")"
   ]
  },
  {
   "cell_type": "markdown",
   "id": "a215caa0",
   "metadata": {},
   "source": [
    "### Getting query description, rowcount"
   ]
  },
  {
   "cell_type": "code",
   "execution_count": null,
   "id": "71744dc5",
   "metadata": {},
   "outputs": [],
   "source": [
    "print(\"Description: \", cursor.description)\n",
    "print(\"Rowcount: \", cursor.rowcount)"
   ]
  },
  {
   "cell_type": "markdown",
   "id": "95e1a109",
   "metadata": {},
   "source": [
    "### Fetch query results"
   ]
  },
  {
   "cell_type": "code",
   "execution_count": null,
   "id": "0936d06a",
   "metadata": {},
   "outputs": [],
   "source": [
    "print(cursor.fetchone())\n",
    "print(cursor.fetchmany(1))\n",
    "print(cursor.fetchall())"
   ]
  }
 ],
 "metadata": {
  "kernelspec": {
   "display_name": "myenv",
   "language": "python",
   "name": "myenv"
  },
  "language_info": {
   "codemirror_mode": {
    "name": "ipython",
    "version": 3
   },
   "file_extension": ".py",
   "mimetype": "text/x-python",
   "name": "python",
   "nbconvert_exporter": "python",
   "pygments_lexer": "ipython3",
   "version": "3.9.6"
  }
 },
 "nbformat": 4,
 "nbformat_minor": 5
}
